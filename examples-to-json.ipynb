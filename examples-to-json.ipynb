{
 "cells": [
  {
   "cell_type": "markdown",
   "id": "d55d1e22-c25d-4a2b-a41c-def57dad3432",
   "metadata": {},
   "source": [
    "# Convert `SQL` examples to `JSON` format\n",
    "\n",
    "We have a bunch of examples in a [SQL script](examples/examples.sql). We want to convert these examples into JSON format to make it easier to load into LangChain.\n",
    "\n",
    "\n",
    "## Read examples from file\n",
    "\n",
    "First, let's load in the examples from the SQL script:"
   ]
  },
  {
   "cell_type": "code",
   "execution_count": 1,
   "id": "14ec399f-9232-42cc-bebe-3d1fd2179893",
   "metadata": {},
   "outputs": [],
   "source": [
    "with open('examples/examples.sql') as f:\n",
    "    script_contents = f.read()"
   ]
  },
  {
   "cell_type": "markdown",
   "id": "aa51620e-0262-4f87-b292-bfda9375a539",
   "metadata": {},
   "source": [
    "Let's take a look at part of the SQL script contents:"
   ]
  },
  {
   "cell_type": "code",
   "execution_count": 2,
   "id": "8fb45af4-c4a5-4fee-af90-a63239e69e1e",
   "metadata": {},
   "outputs": [
    {
     "name": "stdout",
     "output_type": "stream",
     "text": [
      "/*\n",
      "What is the most popular media type among all the tracks?\n",
      "*/\n",
      "SELECT \n",
      "    MediaType.Name AS media_type,\n",
      "    COUNT(Track.TrackId) AS track_count\n",
      "FROM Track\n",
      "    INNER JOIN \n",
      "        MediaType ON MediaType.MediaTypeId = Track.MediaTypeId\n",
      "GROUP BY Track.MediaTypeId\n",
      "ORDER BY track_count DESC\n",
      "LIMIT 3;\n",
      "\n",
      "/*\n",
      "What is the total price for the album \"Big Ones\"?\n",
      "*/\n",
      "SELECT \n",
      "    Album.Title AS album_title,\n",
      "    SUM(Track.UnitPrice) AS album_price\n",
      "FROM\n",
      "    Track\n",
      "    INNER JOIN\n",
      "        Album ON Album.AlbumId = Tr\n"
     ]
    }
   ],
   "source": [
    "print(script_contents[:500])"
   ]
  },
  {
   "cell_type": "markdown",
   "id": "69245f7c-2dbd-4b8c-acde-00d3d012a08d",
   "metadata": {},
   "source": [
    "## Split up examples\n",
    "\n",
    "Each SQL example is separated by 2 new lines `\\n\\n`. Start by splitting up the examples:"
   ]
  },
  {
   "cell_type": "code",
   "execution_count": 3,
   "id": "a17e36bc-6a86-4a33-836e-97c173cbeab1",
   "metadata": {},
   "outputs": [
    {
     "data": {
      "text/plain": [
       "['/*\\nWhat is the most popular media type among all the tracks?\\n*/\\nSELECT \\n    MediaType.Name AS media_type,\\n    COUNT(Track.TrackId) AS track_count\\nFROM Track\\n    INNER JOIN \\n        MediaType ON MediaType.MediaTypeId = Track.MediaTypeId\\nGROUP BY Track.MediaTypeId\\nORDER BY track_count DESC\\nLIMIT 3;',\n",
       " '/*\\nWhat is the total price for the album \"Big Ones\"?\\n*/\\nSELECT \\n    Album.Title AS album_title,\\n    SUM(Track.UnitPrice) AS album_price\\nFROM\\n    Track\\n    INNER JOIN\\n        Album ON Album.AlbumId = Track.AlbumId\\nWHERE\\n    Album.Title = \\'Big Ones\\'\\nGROUP BY\\n    Track.AlbumId;',\n",
       " '/*\\nWhat is the best-selling track of all time?\\n*/\\nSELECT \\n    Track.Name AS track_name, \\n    SUM(\\n        InvoiceLine.Quantity * InvoiceLine.UnitPrice\\n    ) AS total_sales\\nFROM\\n    InvoiceLine\\n    INNER JOIN\\n        Track ON InvoiceLine.TrackId = Track.TrackId\\nGROUP BY \\n    InvoiceLine.TrackId\\nORDER BY \\n    total_sales DESC\\nLIMIT 5;']"
      ]
     },
     "execution_count": 3,
     "metadata": {},
     "output_type": "execute_result"
    }
   ],
   "source": [
    "raw_examples = script_contents.split(sep='\\n\\n')\n",
    "\n",
    "# print out the first 3 examples\n",
    "raw_examples[:3]"
   ]
  },
  {
   "cell_type": "markdown",
   "id": "d78e84a7-f161-48a4-8a13-6a88bf5deaf7",
   "metadata": {},
   "source": [
    "## Process one example\n",
    "\n",
    "To make things simple and clear, let's first work with only one example:"
   ]
  },
  {
   "cell_type": "code",
   "execution_count": 18,
   "id": "f270c8b1-acc8-4fdc-9cd1-db2251a49826",
   "metadata": {},
   "outputs": [
    {
     "data": {
      "text/plain": [
       "'/*\\nWhat is the best-selling track of all time?\\n*/\\nSELECT \\n    Track.Name AS track_name, \\n    SUM(\\n        InvoiceLine.Quantity * InvoiceLine.UnitPrice\\n    ) AS total_sales\\nFROM\\n    InvoiceLine\\n    INNER JOIN\\n        Track ON InvoiceLine.TrackId = Track.TrackId\\nGROUP BY \\n    InvoiceLine.TrackId\\nORDER BY \\n    total_sales DESC\\nLIMIT 5;'"
      ]
     },
     "execution_count": 18,
     "metadata": {},
     "output_type": "execute_result"
    }
   ],
   "source": [
    "an_example = raw_examples[2]\n",
    "\n",
    "an_example"
   ]
  },
  {
   "cell_type": "markdown",
   "id": "1743cb1c-4649-4f9a-8b1f-251658256fcc",
   "metadata": {},
   "source": [
    "### Split into comment and query parts\n",
    "\n",
    "Given an SQL example like this:\n",
    "\n",
    "```sqlite\n",
    "/*\n",
    "How many employees are there?\n",
    "*/\n",
    "SELECT COUNT(*) FROM Employee;\n",
    "```\n",
    "\n",
    "We want to create a JSON example like this:\n",
    "```json\n",
    "{\n",
    "    \"input\": \"How many employees are there?\",\n",
    "    \"query\": \"SELECT COUNT(*) FROM Employee;\"\n",
    "}\n",
    "```\n",
    "\n",
    "Let's split an example into a `comment` and `query` part. We can split it at the closing comment tag `*/`. The closing comment tag is surrounded by two new line characters `\\n`."
   ]
  },
  {
   "cell_type": "code",
   "execution_count": 29,
   "id": "2fdbe871-6ce6-4159-8e89-896dd08d693e",
   "metadata": {},
   "outputs": [
    {
     "name": "stdout",
     "output_type": "stream",
     "text": [
      "Comment:\n",
      "'/*\\nWhat is the best-selling track of all time?'\n",
      "\n",
      "Query:\n",
      "'SELECT \\n    Track.Name AS track_name, \\n    SUM(\\n        InvoiceLine.Quantity * InvoiceLine.UnitPrice\\n    ) AS total_sales\\nFROM\\n    InvoiceLine\\n    INNER JOIN\\n        Track ON InvoiceLine.TrackId = Track.TrackId\\nGROUP BY \\n    InvoiceLine.TrackId\\nORDER BY \\n    total_sales DESC\\nLIMIT 5;'\n"
     ]
    }
   ],
   "source": [
    "comment, query = an_example.split('\\n*/\\n')\n",
    "\n",
    "print(\n",
    "    f\"Comment:\\n{repr(comment)}\\n\"\n",
    ")\n",
    "print(\n",
    "    f\"Query:\\n{repr(query)}\"\n",
    ")"
   ]
  },
  {
   "cell_type": "markdown",
   "id": "af702639-7bff-4146-8b6a-33172fb61618",
   "metadata": {},
   "source": [
    "### Clean up comment\n",
    "\n",
    "Clean up the `comment` part by removing the start comment tag `/*` plus new line `\\n` from beginning of string."
   ]
  },
  {
   "cell_type": "code",
   "execution_count": 30,
   "id": "6a7d3ac1-f678-4c29-8e4a-4dd10881db52",
   "metadata": {},
   "outputs": [
    {
     "data": {
      "text/plain": [
       "'/*\\nWhat is the best-selling track of all time?'"
      ]
     },
     "execution_count": 30,
     "metadata": {},
     "output_type": "execute_result"
    }
   ],
   "source": [
    "comment"
   ]
  },
  {
   "cell_type": "code",
   "execution_count": 31,
   "id": "df6fac42-23f9-4611-9877-effbcadc88bc",
   "metadata": {},
   "outputs": [
    {
     "data": {
      "text/plain": [
       "'What is the best-selling track of all time?'"
      ]
     },
     "execution_count": 31,
     "metadata": {},
     "output_type": "execute_result"
    }
   ],
   "source": [
    "cleaned_comment = comment.removeprefix('/*\\n')\n",
    "cleaned_comment"
   ]
  },
  {
   "cell_type": "markdown",
   "id": "5813a536-9c1c-419e-8b79-ed3a6e92fcce",
   "metadata": {},
   "source": [
    "### Process the query\n",
    "\n",
    "Now, let's clean up the `query` part. The SQL query is broken into multiple lines with proper indentation to make it readable. However, these extra white spaces may end up confusing the LLM. So, we'll need to compress the query into a single line.\n",
    "\n",
    "Let's see how we can do this. Start by splitting the query into a list of lines:"
   ]
  },
  {
   "cell_type": "code",
   "execution_count": 32,
   "id": "6d4c8d03-86c7-4697-ad3f-58c669101f7e",
   "metadata": {},
   "outputs": [
    {
     "data": {
      "text/plain": [
       "'SELECT \\n    Track.Name AS track_name, \\n    SUM(\\n        InvoiceLine.Quantity * InvoiceLine.UnitPrice\\n    ) AS total_sales\\nFROM\\n    InvoiceLine\\n    INNER JOIN\\n        Track ON InvoiceLine.TrackId = Track.TrackId\\nGROUP BY \\n    InvoiceLine.TrackId\\nORDER BY \\n    total_sales DESC\\nLIMIT 5;'"
      ]
     },
     "execution_count": 32,
     "metadata": {},
     "output_type": "execute_result"
    }
   ],
   "source": [
    "query"
   ]
  },
  {
   "cell_type": "code",
   "execution_count": 33,
   "id": "84a18087-c304-49a1-9686-a4b7c6810123",
   "metadata": {},
   "outputs": [
    {
     "data": {
      "text/plain": [
       "['SELECT ',\n",
       " '    Track.Name AS track_name, ',\n",
       " '    SUM(',\n",
       " '        InvoiceLine.Quantity * InvoiceLine.UnitPrice',\n",
       " '    ) AS total_sales',\n",
       " 'FROM',\n",
       " '    InvoiceLine',\n",
       " '    INNER JOIN',\n",
       " '        Track ON InvoiceLine.TrackId = Track.TrackId',\n",
       " 'GROUP BY ',\n",
       " '    InvoiceLine.TrackId',\n",
       " 'ORDER BY ',\n",
       " '    total_sales DESC',\n",
       " 'LIMIT 5;']"
      ]
     },
     "execution_count": 33,
     "metadata": {},
     "output_type": "execute_result"
    }
   ],
   "source": [
    "query_lines = query.splitlines()\n",
    "query_lines"
   ]
  },
  {
   "cell_type": "markdown",
   "id": "4963147c-11ca-48a9-9140-561328f07f93",
   "metadata": {},
   "source": [
    "For each line in the query, strip out leading and trailing whitespaces:"
   ]
  },
  {
   "cell_type": "code",
   "execution_count": 34,
   "id": "04093e08-6376-4a78-9a10-b5b60ae78635",
   "metadata": {},
   "outputs": [
    {
     "data": {
      "text/plain": [
       "['SELECT',\n",
       " 'Track.Name AS track_name,',\n",
       " 'SUM(',\n",
       " 'InvoiceLine.Quantity * InvoiceLine.UnitPrice',\n",
       " ') AS total_sales',\n",
       " 'FROM',\n",
       " 'InvoiceLine',\n",
       " 'INNER JOIN',\n",
       " 'Track ON InvoiceLine.TrackId = Track.TrackId',\n",
       " 'GROUP BY',\n",
       " 'InvoiceLine.TrackId',\n",
       " 'ORDER BY',\n",
       " 'total_sales DESC',\n",
       " 'LIMIT 5;']"
      ]
     },
     "execution_count": 34,
     "metadata": {},
     "output_type": "execute_result"
    }
   ],
   "source": [
    "query_lines_stripped = [line.strip() for line in query_lines]\n",
    "query_lines_stripped"
   ]
  },
  {
   "cell_type": "markdown",
   "id": "faf61f05-746d-4e9b-9509-439397a260d1",
   "metadata": {},
   "source": [
    "Join the lines into a single string separated by a single space `' '`. Now the query is a single long line."
   ]
  },
  {
   "cell_type": "code",
   "execution_count": 35,
   "id": "3b924fc6-4889-4fd3-881c-d4983f35a0b6",
   "metadata": {},
   "outputs": [
    {
     "data": {
      "text/plain": [
       "'SELECT Track.Name AS track_name, SUM( InvoiceLine.Quantity * InvoiceLine.UnitPrice ) AS total_sales FROM InvoiceLine INNER JOIN Track ON InvoiceLine.TrackId = Track.TrackId GROUP BY InvoiceLine.TrackId ORDER BY total_sales DESC LIMIT 5;'"
      ]
     },
     "execution_count": 35,
     "metadata": {},
     "output_type": "execute_result"
    }
   ],
   "source": [
    "query_one_line = \" \".join(query_lines_stripped)\n",
    "query_one_line"
   ]
  },
  {
   "cell_type": "markdown",
   "id": "178d0304-c19e-4e1d-af80-df839026b73a",
   "metadata": {},
   "source": [
    "### Combine into a dictionary\n",
    "\n",
    "In JSON, the `comment` and `query` will be combined as a Python `dict`:"
   ]
  },
  {
   "cell_type": "code",
   "execution_count": 36,
   "id": "82ecd1dc-69bb-4f10-91cc-f6989ed083a3",
   "metadata": {},
   "outputs": [
    {
     "data": {
      "text/plain": [
       "{'input': 'What is the best-selling track of all time?',\n",
       " 'query': 'SELECT Track.Name AS track_name, SUM( InvoiceLine.Quantity * InvoiceLine.UnitPrice ) AS total_sales FROM InvoiceLine INNER JOIN Track ON InvoiceLine.TrackId = Track.TrackId GROUP BY InvoiceLine.TrackId ORDER BY total_sales DESC LIMIT 5;'}"
      ]
     },
     "execution_count": 36,
     "metadata": {},
     "output_type": "execute_result"
    }
   ],
   "source": [
    "example_dict = {\n",
    "    \"input\": cleaned_comment,\n",
    "    \"query\": query_one_line,\n",
    "}\n",
    "example_dict"
   ]
  },
  {
   "cell_type": "markdown",
   "id": "b418debc-46f4-45b4-911c-dcbc9e2ee4af",
   "metadata": {},
   "source": [
    "## Helper Function\n",
    "\n",
    "Let's take what we have learned above and group them into a function to make it easier to use. This helper function only processes one example:"
   ]
  },
  {
   "cell_type": "code",
   "execution_count": 37,
   "id": "4dedd1d7-5e0c-4e08-840a-580589de1507",
   "metadata": {},
   "outputs": [],
   "source": [
    "def process_query(query: str) -> str:\n",
    "    # Split query by new line `\\n`\n",
    "    query_lines = query.splitlines()\n",
    "\n",
    "    # Remove leading and trailing spaces\n",
    "    query_lines_stripped = [\n",
    "        line.strip() \n",
    "        for line in query_lines\n",
    "    ]\n",
    "\n",
    "    # Join by single space character into one line\n",
    "    return \" \".join(query_lines_stripped)"
   ]
  },
  {
   "cell_type": "code",
   "execution_count": 38,
   "id": "0662c86f-325b-4cf5-936f-d9dd2c3d809c",
   "metadata": {},
   "outputs": [],
   "source": [
    "def process_example(\n",
    "    an_example: str\n",
    ") -> dict[str, str]:\n",
    "\n",
    "    # Split example by closing comment tag `*/` into\n",
    "    # the comment and query parts.\n",
    "    comment, query = an_example.split('\\n*/\\n')\n",
    "\n",
    "    # Remove the opening comment tag `/*`.\n",
    "    comment = comment.removeprefix('/*\\n')\n",
    "\n",
    "    # Transform multi-line query into one-line query\n",
    "    query = process_query(query)\n",
    "    \n",
    "    return {\n",
    "        \"input\": comment,\n",
    "        \"query\": query,\n",
    "    }"
   ]
  },
  {
   "cell_type": "markdown",
   "id": "9bf37f0e-545e-4692-ad01-fddc5ad5a255",
   "metadata": {},
   "source": [
    "Let's try out the function on one example and see what we get back:"
   ]
  },
  {
   "cell_type": "code",
   "execution_count": 39,
   "id": "58855d18-ef45-4cf7-939c-e9dfb8aa0adf",
   "metadata": {},
   "outputs": [
    {
     "data": {
      "text/plain": [
       "{'input': 'What is the best-selling track of all time?',\n",
       " 'query': 'SELECT Track.Name AS track_name, SUM( InvoiceLine.Quantity * InvoiceLine.UnitPrice ) AS total_sales FROM InvoiceLine INNER JOIN Track ON InvoiceLine.TrackId = Track.TrackId GROUP BY InvoiceLine.TrackId ORDER BY total_sales DESC LIMIT 5;'}"
      ]
     },
     "execution_count": 39,
     "metadata": {},
     "output_type": "execute_result"
    }
   ],
   "source": [
    "process_example(an_example)"
   ]
  },
  {
   "cell_type": "markdown",
   "id": "0381d2a1-25d4-4803-9bee-0c84ec1ef2f6",
   "metadata": {},
   "source": [
    "Great! So we can see that it works. 😃\n",
    "\n",
    "\n",
    "## Process multiple examples\n",
    "\n",
    "Now that we have seen how it works on one example, we can process and clean up multiple raw examples. To do this, we will just make use of Python's list comprehension:\n"
   ]
  },
  {
   "cell_type": "code",
   "execution_count": 40,
   "id": "7286cf90-5272-4c3d-8a66-4f47c564711d",
   "metadata": {},
   "outputs": [
    {
     "data": {
      "text/plain": [
       "[{'input': 'What is the most popular media type among all the tracks?',\n",
       "  'query': 'SELECT MediaType.Name AS media_type, COUNT(Track.TrackId) AS track_count FROM Track INNER JOIN MediaType ON MediaType.MediaTypeId = Track.MediaTypeId GROUP BY Track.MediaTypeId ORDER BY track_count DESC LIMIT 3;'},\n",
       " {'input': 'What is the total price for the album \"Big Ones\"?',\n",
       "  'query': \"SELECT Album.Title AS album_title, SUM(Track.UnitPrice) AS album_price FROM Track INNER JOIN Album ON Album.AlbumId = Track.AlbumId WHERE Album.Title = 'Big Ones' GROUP BY Track.AlbumId;\"},\n",
       " {'input': 'What is the best-selling track of all time?',\n",
       "  'query': 'SELECT Track.Name AS track_name, SUM( InvoiceLine.Quantity * InvoiceLine.UnitPrice ) AS total_sales FROM InvoiceLine INNER JOIN Track ON InvoiceLine.TrackId = Track.TrackId GROUP BY InvoiceLine.TrackId ORDER BY total_sales DESC LIMIT 5;'}]"
      ]
     },
     "execution_count": 40,
     "metadata": {},
     "output_type": "execute_result"
    }
   ],
   "source": [
    "clean_examples = [process_example(e) for e in raw_examples]\n",
    "\n",
    "# take a look at a few processed examples\n",
    "clean_examples[:3]"
   ]
  },
  {
   "cell_type": "markdown",
   "id": "494bfe4f-f5ee-4a1d-bff5-4afb223b7b6f",
   "metadata": {},
   "source": [
    "## Save to JSON file\n",
    "\n",
    "Now that we have our processed examples, we can save it to a JSON file. This will make it easier for us to load the examples into LangChain later."
   ]
  },
  {
   "cell_type": "code",
   "execution_count": 41,
   "id": "eee78885-ab5d-4f85-b029-32fdb40a8dbc",
   "metadata": {},
   "outputs": [],
   "source": [
    "import json\n",
    "\n",
    "def write_to_json(\n",
    "    examples: list[\n",
    "        dict[str, str]\n",
    "    ]\n",
    ") -> None:\n",
    "    with open(\n",
    "        file='examples/examples.json', \n",
    "        mode='w', \n",
    "        encoding='utf-8'\n",
    "    ) as f:\n",
    "        json.dump(examples, f, ensure_ascii=False, indent=4)"
   ]
  },
  {
   "cell_type": "code",
   "execution_count": 42,
   "id": "4b58a1b2-eb6e-4dfc-ac5e-df943cb8d81b",
   "metadata": {},
   "outputs": [],
   "source": [
    "write_to_json(examples=clean_examples)"
   ]
  },
  {
   "cell_type": "code",
   "execution_count": null,
   "id": "cb38dcad-327b-4013-9b10-18dc6ee210b2",
   "metadata": {},
   "outputs": [],
   "source": []
  }
 ],
 "metadata": {
  "kernelspec": {
   "display_name": "Python 3 (ipykernel)",
   "language": "python",
   "name": "python3"
  },
  "language_info": {
   "codemirror_mode": {
    "name": "ipython",
    "version": 3
   },
   "file_extension": ".py",
   "mimetype": "text/x-python",
   "name": "python",
   "nbconvert_exporter": "python",
   "pygments_lexer": "ipython3",
   "version": "3.11.10"
  }
 },
 "nbformat": 4,
 "nbformat_minor": 5
}
