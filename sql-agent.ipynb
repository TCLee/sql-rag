{
 "cells": [
  {
   "cell_type": "markdown",
   "id": "51e09c3d-c196-4312-a1c4-564c3cdd0f1c",
   "metadata": {},
   "source": [
    "# An agent for interacting with a SQL database\n",
    "\n",
    "In this tutorial, we will walk through how to build an agent that can answer questions about a SQL database. \n",
    "\n",
    "At a high level, the agent will:\n",
    "1. Fetch the available tables from the database\n",
    "2. Decide which tables are relevant to the question\n",
    "3. Fetch the DDL for the relevant tables\n",
    "4. Generate a query based on the question and information from the DDL\n",
    "5. Double-check the query for common mistakes using an LLM\n",
    "6. Execute the query and return the results\n",
    "7. Correct mistakes surfaced by the database engine until the query is successful\n",
    "8. Formulate a response based on the results"
   ]
  },
  {
   "cell_type": "markdown",
   "id": "3a16780a-8c1f-4511-a46a-9470d7b39ae9",
   "metadata": {},
   "source": [
    "## Setup\n",
    "\n",
    "Before we begin, please make sure you have setup the `.env` file in the project \n",
    "directory as described in [`README.md`](README.md).\n",
    "\n",
    "Next, we will load in the necessary environment variables (e.g., API keys) for this notebook:"
   ]
  },
  {
   "cell_type": "code",
   "execution_count": 1,
   "id": "cc6619b8-ac4f-4e8d-81c1-c57c2f670842",
   "metadata": {},
   "outputs": [],
   "source": [
    "import os\n",
    "from dotenv import load_dotenv\n",
    "\n",
    "_ = load_dotenv()\n",
    "\n",
    "assert os.environ.get(\"GOOGLE_API_KEY\")"
   ]
  },
  {
   "cell_type": "markdown",
   "id": "4cc6b6f9-7fb4-427e-b5b9-1326e8131775",
   "metadata": {},
   "source": [
    "## Configure the database\n",
    "\n",
    "We will be creating a SQLite database for this tutorial. SQLite is a lightweight database that is easy to set up and use. We will be loading the `Chinook` database, which is a sample database that represents a digital media store.\n",
    "Find more information about the database [here](https://www.sqlitetutorial.net/sqlite-sample-database/)."
   ]
  },
  {
   "cell_type": "markdown",
   "id": "9678a6cb-aa4f-4c19-b946-9c1a83b65c3b",
   "metadata": {},
   "source": [
    "We will use a handy SQL database wrapper available in the `langchain_community` package to interact with the database. The wrapper provides a simple interface to execute SQL queries and fetch results."
   ]
  },
  {
   "cell_type": "code",
   "execution_count": 2,
   "id": "edcdb166-07ec-496d-8aa1-c9029aebf76b",
   "metadata": {},
   "outputs": [
    {
     "name": "stdout",
     "output_type": "stream",
     "text": [
      "sqlite\n",
      "['Album', 'Artist', 'Customer', 'Employee', 'Genre', 'Invoice', 'InvoiceLine', 'MediaType', 'Playlist', 'PlaylistTrack', 'Track']\n"
     ]
    },
    {
     "data": {
      "text/plain": [
       "\"[(1, 'AC/DC'), (2, 'Accept'), (3, 'Aerosmith'), (4, 'Alanis Morissette'), (5, 'Alice In Chains'), (6, 'Antônio Carlos Jobim'), (7, 'Apocalyptica'), (8, 'Audioslave'), (9, 'BackBeat'), (10, 'Billy Cobham')]\""
      ]
     },
     "execution_count": 2,
     "metadata": {},
     "output_type": "execute_result"
    }
   ],
   "source": [
    "from langchain_community.utilities import SQLDatabase\n",
    "\n",
    "db = SQLDatabase.from_uri(\"sqlite:///db/Chinook.db\")\n",
    "print(db.dialect)\n",
    "print(db.get_usable_table_names())\n",
    "db.run(\"SELECT * FROM Artist LIMIT 10;\")"
   ]
  },
  {
   "cell_type": "markdown",
   "id": "521a13bb-74d2-4264-be79-76073a6d7059",
   "metadata": {},
   "source": [
    "## Utility functions\n",
    "\n",
    "We will define a few utility functions to help us with the agent implementation. Specifically, we will wrap a `ToolNode` with a fallback to handle errors and surface them to the agent."
   ]
  },
  {
   "cell_type": "code",
   "execution_count": 3,
   "id": "0b954c5d-9885-4369-8438-f6bacd706258",
   "metadata": {},
   "outputs": [],
   "source": [
    "from typing import Any\n",
    "\n",
    "from langchain_core.messages import ToolMessage\n",
    "from langchain_core.tools import BaseTool\n",
    "from langchain_core.runnables import (\n",
    "    RunnableLambda, \n",
    "    RunnableWithFallbacks\n",
    ")\n",
    "from langgraph.prebuilt import ToolNode\n",
    "\n",
    "\n",
    "def create_tool_node_with_fallback(\n",
    "    tools: list[BaseTool]\n",
    ") -> RunnableWithFallbacks[Any, dict]:\n",
    "    \"\"\"\n",
    "    Create a ToolNode with a fallback \n",
    "    to handle errors and surface them \n",
    "    to the agent.\n",
    "    \"\"\"\n",
    "    return ToolNode(tools).with_fallbacks(\n",
    "        fallbacks=[\n",
    "            RunnableLambda(handle_tool_error)\n",
    "        ],\n",
    "        exception_key=\"error\"\n",
    "    )\n",
    "\n",
    "\n",
    "def handle_tool_error(\n",
    "    state: dict\n",
    ") -> dict:\n",
    "    error = state.get(\"error\")\n",
    "    tool_call_list = state[\"messages\"][-1].tool_calls\n",
    "    \n",
    "    return {\n",
    "        \"messages\": [\n",
    "            ToolMessage(\n",
    "                content=(\n",
    "                    f\"Error: {repr(error)}\\n\"\n",
    "                    \"Please fix your mistakes.\"\n",
    "                ),\n",
    "                tool_call_id=tool_call[\"id\"],\n",
    "            )\n",
    "            for tool_call in tool_call_list\n",
    "        ]\n",
    "    }"
   ]
  },
  {
   "cell_type": "markdown",
   "id": "51c28a4d-df9f-44fb-9fea-f1658362bb58",
   "metadata": {},
   "source": [
    "## Define tools for the agent\n",
    "\n",
    "We will define a few tools that the agent will use to interact with the database.\n",
    "\n",
    "1. `list_tables_tool`: Fetch the available tables from the database\n",
    "2. `get_schema_tool`: Fetch the DDL for a table\n",
    "3. `db_query_tool`: Execute the query and fetch the results OR return an error message if the query fails\n",
    "\n",
    "For the first two tools, we will grab them from the `SQLDatabaseToolkit`, also available in the `langchain_community` package."
   ]
  },
  {
   "cell_type": "code",
   "execution_count": 5,
   "id": "986460ed-05b5-49f5-817a-7199ec758be9",
   "metadata": {},
   "outputs": [],
   "source": [
    "from langchain_google_genai import ChatGoogleGenerativeAI\n",
    "\n",
    "\n",
    "llm = ChatGoogleGenerativeAI(\n",
    "    model=\"gemini-1.5-flash\"\n",
    ")"
   ]
  },
  {
   "cell_type": "code",
   "execution_count": 19,
   "id": "51eabcb3-c8e1-41f7-9c25-98927a9e9424",
   "metadata": {},
   "outputs": [
    {
     "data": {
      "text/plain": [
       "[('sql_db_query',\n",
       "  \"Input to this tool is a detailed and correct SQL query, output is a result from the database. If the query is not correct, an error message will be returned. If an error is returned, rewrite the query, check the query, and try again. If you encounter an issue with Unknown column 'xxxx' in 'field list', use sql_db_schema to query the correct table fields.\"),\n",
       " ('sql_db_schema',\n",
       "  'Input to this tool is a comma-separated list of tables, output is the schema and sample rows for those tables. Be sure that the tables actually exist by calling sql_db_list_tables first! Example Input: table1, table2, table3'),\n",
       " ('sql_db_list_tables',\n",
       "  'Input is an empty string, output is a comma-separated list of tables in the database.'),\n",
       " ('sql_db_query_checker',\n",
       "  'Use this tool to double check if your query is correct before executing it. Always use this tool before executing a query with sql_db_query!')]"
      ]
     },
     "execution_count": 19,
     "metadata": {},
     "output_type": "execute_result"
    }
   ],
   "source": [
    "from langchain_community.agent_toolkits import SQLDatabaseToolkit\n",
    "\n",
    "\n",
    "toolkit = SQLDatabaseToolkit(\n",
    "    db=db, \n",
    "    llm=llm\n",
    ")\n",
    "tools = toolkit.get_tools()\n",
    "\n",
    "[(tool.name, tool.description) for tool in tools]"
   ]
  },
  {
   "cell_type": "code",
   "execution_count": 20,
   "id": "4988f9ee-84b9-44a3-9b7b-0e2dcaa88440",
   "metadata": {},
   "outputs": [],
   "source": [
    "list_tables_tool = next(\n",
    "    tool \n",
    "    for tool in tools \n",
    "    if tool.name == \"sql_db_list_tables\"\n",
    ")\n",
    "\n",
    "get_schema_tool = next(\n",
    "    tool \n",
    "    for tool in tools \n",
    "    if tool.name == \"sql_db_schema\"\n",
    ")"
   ]
  },
  {
   "cell_type": "code",
   "execution_count": 21,
   "id": "7f418c57-a203-41cb-8269-988aa02edae6",
   "metadata": {},
   "outputs": [
    {
     "name": "stdout",
     "output_type": "stream",
     "text": [
      "Album, Artist, Customer, Employee, Genre, Invoice, InvoiceLine, MediaType, Playlist, PlaylistTrack, Track\n"
     ]
    }
   ],
   "source": [
    "print(list_tables_tool.invoke(\"\"))"
   ]
  },
  {
   "cell_type": "code",
   "execution_count": 22,
   "id": "0e5810b1-5f61-48c8-917f-1878f39e32d3",
   "metadata": {},
   "outputs": [
    {
     "name": "stdout",
     "output_type": "stream",
     "text": [
      "\n",
      "CREATE TABLE \"Artist\" (\n",
      "\t\"ArtistId\" INTEGER NOT NULL, \n",
      "\t\"Name\" NVARCHAR(120), \n",
      "\tPRIMARY KEY (\"ArtistId\")\n",
      ")\n",
      "\n",
      "/*\n",
      "3 rows from Artist table:\n",
      "ArtistId\tName\n",
      "1\tAC/DC\n",
      "2\tAccept\n",
      "3\tAerosmith\n",
      "*/\n"
     ]
    }
   ],
   "source": [
    "print(get_schema_tool.invoke(\"Artist\"))"
   ]
  },
  {
   "cell_type": "markdown",
   "id": "14ec4c50-fe42-4c74-95a2-a372a3f7fd5f",
   "metadata": {},
   "source": [
    "The third will be defined manually. For the `db_query_tool`, we will execute the query against the database and return the results."
   ]
  },
  {
   "cell_type": "code",
   "execution_count": 27,
   "id": "e0eca182-2470-46da-8bb0-e95d290576a5",
   "metadata": {},
   "outputs": [],
   "source": [
    "from langchain_core.tools import tool\n",
    "\n",
    "\n",
    "@tool\n",
    "def db_query_tool(query: str) -> str:\n",
    "    \"\"\"\n",
    "    Execute a SQL query against the database and get back the result.\n",
    "    If the query is not correct, an error message will be returned.\n",
    "    If an error is returned, rewrite the query, \n",
    "    check the query, and try again.\n",
    "    \"\"\"\n",
    "    result = db.run_no_throw(query)\n",
    "    \n",
    "    if not result:\n",
    "        return \"Error: Query failed. Please rewrite your query and try again.\"\n",
    "        \n",
    "    return result"
   ]
  },
  {
   "cell_type": "code",
   "execution_count": 26,
   "id": "581cfb41-d00d-4b49-ae21-2b3d20128fcf",
   "metadata": {},
   "outputs": [
    {
     "name": "stdout",
     "output_type": "stream",
     "text": [
      "[(1, 'AC/DC'), (2, 'Accept'), (3, 'Aerosmith'), (4, 'Alanis Morissette'), (5, 'Alice In Chains'), (6, 'Antônio Carlos Jobim'), (7, 'Apocalyptica'), (8, 'Audioslave'), (9, 'BackBeat'), (10, 'Billy Cobham')]\n"
     ]
    }
   ],
   "source": [
    "print(\n",
    "    db_query_tool.invoke(\n",
    "        \"SELECT * FROM Artist LIMIT 10;\"\n",
    "    )\n",
    ")"
   ]
  },
  {
   "cell_type": "markdown",
   "id": "d5d022fd-713b-404c-ab92-a6bf3e643509",
   "metadata": {},
   "source": [
    "While not strictly a tool, we will prompt an LLM to check for common mistakes in the query and later add this as a node in the workflow."
   ]
  },
  {
   "cell_type": "code",
   "execution_count": 30,
   "id": "c4615242-7f7d-459f-9b08-eb8769ace036",
   "metadata": {},
   "outputs": [
    {
     "name": "stderr",
     "output_type": "stream",
     "text": [
      "Key 'title' is not supported in schema, ignoring\n",
      "Key 'title' is not supported in schema, ignoring\n"
     ]
    }
   ],
   "source": [
    "from langchain_core.prompts import ChatPromptTemplate\n",
    "\n",
    "\n",
    "query_check_system = \"\"\"You are a SQL expert with a strong attention to detail.\n",
    "Double check the SQLite query for common mistakes, including:\n",
    "- Using NOT IN with NULL values\n",
    "- Using UNION when UNION ALL should have been used\n",
    "- Using BETWEEN for exclusive ranges\n",
    "- Data type mismatch in predicates\n",
    "- Properly quoting identifiers\n",
    "- Using the correct number of arguments for functions\n",
    "- Casting to the correct data type\n",
    "- Using the proper columns for joins\n",
    "\n",
    "If there are any of the above mistakes, rewrite the query. If there are no mistakes, just reproduce the original query.\n",
    "\n",
    "You will call the appropriate tool to execute the query after running this check.\"\"\"\n",
    "\n",
    "query_check_prompt = ChatPromptTemplate.from_messages(\n",
    "    messages=[\n",
    "        (\"system\", query_check_system), \n",
    "        (\"placeholder\", \"{messages}\")\n",
    "    ]\n",
    ")\n",
    "query_check = (\n",
    "    query_check_prompt \n",
    "    | llm.bind_tools(\n",
    "        tools=[db_query_tool], \n",
    "        tool_choice=\"any\",\n",
    "    )\n",
    ")"
   ]
  },
  {
   "cell_type": "code",
   "execution_count": 31,
   "id": "66cf7bac-fabc-4ce4-a7c5-a4da8a980224",
   "metadata": {},
   "outputs": [
    {
     "data": {
      "text/plain": [
       "AIMessage(content='', additional_kwargs={'function_call': {'name': 'db_query_tool', 'arguments': '{\"query\": \"SELECT * FROM Artist LIMIT 10;\"}'}}, response_metadata={'prompt_feedback': {'block_reason': 0, 'safety_ratings': []}, 'finish_reason': 'STOP', 'safety_ratings': [{'category': 'HARM_CATEGORY_DANGEROUS_CONTENT', 'probability': 'NEGLIGIBLE', 'blocked': False}, {'category': 'HARM_CATEGORY_SEXUALLY_EXPLICIT', 'probability': 'NEGLIGIBLE', 'blocked': False}, {'category': 'HARM_CATEGORY_HARASSMENT', 'probability': 'NEGLIGIBLE', 'blocked': False}, {'category': 'HARM_CATEGORY_HATE_SPEECH', 'probability': 'NEGLIGIBLE', 'blocked': False}]}, id='run-19a02cce-3366-4608-b13f-a249196a0c49-0', tool_calls=[{'name': 'db_query_tool', 'args': {'query': 'SELECT * FROM Artist LIMIT 10;'}, 'id': 'd64e26fe-cd07-47ca-8a44-1fc74b114b05', 'type': 'tool_call'}], usage_metadata={'input_tokens': 223, 'output_tokens': 25, 'total_tokens': 248})"
      ]
     },
     "execution_count": 31,
     "metadata": {},
     "output_type": "execute_result"
    }
   ],
   "source": [
    "query_check.invoke(\n",
    "    input={\n",
    "        \"messages\": [\n",
    "            (\"user\", \"SELECT * FROM Artist LIMIT 10;\")\n",
    "        ]\n",
    "    }\n",
    ")"
   ]
  },
  {
   "cell_type": "code",
   "execution_count": null,
   "id": "d9641235-28fe-4bd9-a1b8-4f5b6c4d862c",
   "metadata": {},
   "outputs": [],
   "source": []
  }
 ],
 "metadata": {
  "kernelspec": {
   "display_name": "Python 3 (ipykernel)",
   "language": "python",
   "name": "python3"
  },
  "language_info": {
   "codemirror_mode": {
    "name": "ipython",
    "version": 3
   },
   "file_extension": ".py",
   "mimetype": "text/x-python",
   "name": "python",
   "nbconvert_exporter": "python",
   "pygments_lexer": "ipython3",
   "version": "3.11.9"
  }
 },
 "nbformat": 4,
 "nbformat_minor": 5
}
