{
 "cells": [
  {
   "cell_type": "markdown",
   "id": "51e09c3d-c196-4312-a1c4-564c3cdd0f1c",
   "metadata": {},
   "source": [
    "# An agent for interacting with a SQL database\n",
    "\n",
    "In this tutorial, we will walk through how to build an agent that can answer questions about a SQL database. \n",
    "\n",
    "At a high level, the agent will:\n",
    "1. Fetch the available tables from the database\n",
    "2. Decide which tables are relevant to the question\n",
    "3. Fetch the DDL for the relevant tables\n",
    "4. Generate a query based on the question and information from the DDL\n",
    "5. Double-check the query for common mistakes using an LLM\n",
    "6. Execute the query and return the results\n",
    "7. Correct mistakes surfaced by the database engine until the query is successful\n",
    "8. Formulate a response based on the results"
   ]
  },
  {
   "cell_type": "markdown",
   "id": "3a16780a-8c1f-4511-a46a-9470d7b39ae9",
   "metadata": {},
   "source": [
    "## Setup\n",
    "\n",
    "Before we begin, please make sure you have setup the `.env` file in the project \n",
    "directory as described in [`README.md`](README.md).\n",
    "\n",
    "Next, we will load in the necessary environment variables (e.g., API keys) for this notebook:"
   ]
  },
  {
   "cell_type": "code",
   "execution_count": 2,
   "id": "cc6619b8-ac4f-4e8d-81c1-c57c2f670842",
   "metadata": {},
   "outputs": [],
   "source": [
    "import os\n",
    "from dotenv import load_dotenv\n",
    "\n",
    "_ = load_dotenv()\n",
    "\n",
    "assert os.environ.get(\"GOOGLE_API_KEY\")"
   ]
  },
  {
   "cell_type": "markdown",
   "id": "4cc6b6f9-7fb4-427e-b5b9-1326e8131775",
   "metadata": {},
   "source": [
    "## Configure the database\n",
    "\n",
    "We will be creating a SQLite database for this tutorial. SQLite is a lightweight database that is easy to set up and use. We will be loading the `Chinook` database, which is a sample database that represents a digital media store.\n",
    "Find more information about the database [here](https://www.sqlitetutorial.net/sqlite-sample-database/)."
   ]
  },
  {
   "cell_type": "markdown",
   "id": "9678a6cb-aa4f-4c19-b946-9c1a83b65c3b",
   "metadata": {},
   "source": [
    "We will use a handy SQL database wrapper available in the `langchain_community` package to interact with the database. The wrapper provides a simple interface to execute SQL queries and fetch results."
   ]
  },
  {
   "cell_type": "code",
   "execution_count": 1,
   "id": "edcdb166-07ec-496d-8aa1-c9029aebf76b",
   "metadata": {},
   "outputs": [
    {
     "name": "stdout",
     "output_type": "stream",
     "text": [
      "sqlite\n",
      "['Album', 'Artist', 'Customer', 'Employee', 'Genre', 'Invoice', 'InvoiceLine', 'MediaType', 'Playlist', 'PlaylistTrack', 'Track']\n"
     ]
    },
    {
     "data": {
      "text/plain": [
       "\"[(1, 'AC/DC'), (2, 'Accept'), (3, 'Aerosmith'), (4, 'Alanis Morissette'), (5, 'Alice In Chains'), (6, 'Antônio Carlos Jobim'), (7, 'Apocalyptica'), (8, 'Audioslave'), (9, 'BackBeat'), (10, 'Billy Cobham')]\""
      ]
     },
     "execution_count": 1,
     "metadata": {},
     "output_type": "execute_result"
    }
   ],
   "source": [
    "from langchain_community.utilities import SQLDatabase\n",
    "\n",
    "db = SQLDatabase.from_uri(\"sqlite:///db/Chinook.db\")\n",
    "print(db.dialect)\n",
    "print(db.get_usable_table_names())\n",
    "db.run(\"SELECT * FROM Artist LIMIT 10;\")"
   ]
  },
  {
   "cell_type": "code",
   "execution_count": null,
   "id": "df6bd735-e744-48bf-b961-a3de2cfb5cf6",
   "metadata": {},
   "outputs": [],
   "source": []
  }
 ],
 "metadata": {
  "kernelspec": {
   "display_name": "Python 3 (ipykernel)",
   "language": "python",
   "name": "python3"
  },
  "language_info": {
   "codemirror_mode": {
    "name": "ipython",
    "version": 3
   },
   "file_extension": ".py",
   "mimetype": "text/x-python",
   "name": "python",
   "nbconvert_exporter": "python",
   "pygments_lexer": "ipython3",
   "version": "3.11.9"
  }
 },
 "nbformat": 4,
 "nbformat_minor": 5
}
