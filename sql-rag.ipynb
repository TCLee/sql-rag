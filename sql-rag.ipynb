{
 "cells": [
  {
   "cell_type": "markdown",
   "id": "dcefa426-d5ca-4d34-af10-346064edcc90",
   "metadata": {},
   "source": [
    "# Build a Question Answering system over SQL data\n",
    "\n",
    "Enabling a LLM system to query structured data is very different from unstructured text data. For **unstructured** text data, we use text embeddings that can be searched against a vector database. For **structured** data (e.g., relational database), we need the LLM to write and execute queries in SQL. \n",
    "\n",
    "In this guide we'll go over the basic ways to create a Q&A system over tabular data in databases. We will cover implementations using both **chains** and an **agent**. These systems will allow us to ask a question about the data in a database and get back a natural language answer. The main difference between chains and an agent is that our agent can query the database in a loop as many times as it needs to answer the question.\n",
    "\n",
    "\n",
    "## ⚠️ Security note ⚠️\n",
    "\n",
    "Building Q&A systems of SQL databases requires executing model-generated SQL queries. There are inherent risks in doing this. Make sure that your database connection permissions are always scoped as narrowly as possible for your agent's needs. This will reduce though **not** eliminate the risks of building a model-driven system. For more on general security best practices, see [LangChain Security Docs](https://python.langchain.com/docs/security).\n",
    "\n",
    "The code in this notebook is adapted from the LangChain tutorial: [Build a Question/Answering system over SQL data](https://python.langchain.com/docs/tutorials/sql_qa).\n",
    "\n",
    "\n",
    "## Architecture\n",
    "\n",
    "At a high-level, the steps of these systems are:\n",
    "\n",
    "1. **Convert question to SQL query**: Model converts user's question to a SQL query.\n",
    "2. **Execute SQL query**: Execute the SQL query.\n",
    "3. **Answer the question**: Model responds to user input using the database query results.\n",
    "\n",
    "\n",
    "![Convert user's question to SQL](img/sql_usecase.png \"Convert user's question to SQL\")\n",
    "**Figure 1**: Image from [LangChain tutorial](https://python.langchain.com/docs/tutorials/sql_qa/#architecture)\n",
    "\n",
    "\n",
    "## Setup\n",
    "\n",
    "Before we begin, please make sure you have setup the `.env` file in the project \n",
    "directory as described in [`README.md`](README.md).\n",
    "\n",
    "Next, we will load in the necessary environment variables (e.g., API keys) for this notebook:"
   ]
  },
  {
   "cell_type": "code",
   "execution_count": 1,
   "id": "4f1f5de3-14eb-4864-ada1-681ff293c4de",
   "metadata": {},
   "outputs": [],
   "source": [
    "import os\n",
    "from dotenv import load_dotenv\n",
    "\n",
    "_ = load_dotenv()\n",
    "\n",
    "assert os.environ.get(\"GOOGLE_API_KEY\")"
   ]
  },
  {
   "cell_type": "markdown",
   "id": "cdcd0173-2c6f-4994-a29a-dc655b08b072",
   "metadata": {},
   "source": [
    "## Database\n",
    "\n",
    "In this notebook we will use a SQLite connection with the [Chinook](https://github.com/lerocha/chinook-database) sample database. The database has already been created for you in the `db` directory.\n",
    "\n",
    "![Chinook database ER diagram](img/chinook-database-er-diagram.png \"Chinook database ER diagram\")\n",
    "**Figure 2**: Image from [`chinook-database` GitHub](https://github.com/lerocha/chinook-database)\n",
    "\n",
    "We can interface with the database using the SQLAlchemy-driven [`SQLDatabase`](https://python.langchain.com/api_reference/community/utilities/langchain_community.utilities.sql_database.SQLDatabase.html) class:"
   ]
  },
  {
   "cell_type": "code",
   "execution_count": 2,
   "id": "20b3ca34-ad9e-4834-9bde-f9f810575b85",
   "metadata": {},
   "outputs": [
    {
     "name": "stdout",
     "output_type": "stream",
     "text": [
      "SQL Dialect: sqlite\n",
      "Tables: ['Album', 'Artist', 'Customer', 'Employee', 'Genre', 'Invoice', 'InvoiceLine', 'MediaType', 'Playlist', 'PlaylistTrack', 'Track']\n"
     ]
    }
   ],
   "source": [
    "from langchain_community.utilities import SQLDatabase\n",
    "\n",
    "# Open database in read-only (`ro`) mode.\n",
    "database = SQLDatabase.from_uri(\n",
    "    \"sqlite:///db/Chinook.db?mode=ro\"\n",
    ")\n",
    "\n",
    "print(f\"SQL Dialect: {database.dialect}\")\n",
    "print(\n",
    "    f\"Tables: {database.get_usable_table_names()}\"\n",
    ")"
   ]
  },
  {
   "cell_type": "code",
   "execution_count": 3,
   "id": "b93c49a9-a2e0-44ee-8b76-4569e22167d5",
   "metadata": {},
   "outputs": [
    {
     "data": {
      "text/plain": [
       "\"[(1, 'AC/DC'), (2, 'Accept'), (3, 'Aerosmith'), (4, 'Alanis Morissette'), (5, 'Alice In Chains'), (6, 'Antônio Carlos Jobim'), (7, 'Apocalyptica'), (8, 'Audioslave'), (9, 'BackBeat'), (10, 'Billy Cobham')]\""
      ]
     },
     "execution_count": 3,
     "metadata": {},
     "output_type": "execute_result"
    }
   ],
   "source": [
    "database.run(\"SELECT * FROM Artist LIMIT 10;\")"
   ]
  },
  {
   "cell_type": "markdown",
   "id": "ca7a7d0c-7aa5-427a-b649-57a9db50b824",
   "metadata": {},
   "source": [
    "Great! 😀 We've got a SQL database that we can query. Now let's try hooking it up to an LLM.\n",
    "\n",
    "\n",
    "## Chain\n",
    "\n",
    "Chains (i.e., compositions of LangChain [Runnables](https://python.langchain.com/docs/concepts/#langchain-expression-language-lcel) support applications whose steps are predictable. We can create a simple chain that takes a question and does the following:\n",
    "1. Convert the question into a SQL query.\n",
    "2. Execute the SQL query.\n",
    "3. Use the results to answer the original question.\n",
    "\n",
    "There are scenarios not supported by this arrangement. For example, this system will execute a SQL query for any user input — even `\"hello\"`. Importantly, as we'll see below, some questions require more than one query to answer. We will address these scenarios in the [Agent](#Agent) section.\n",
    "\n",
    "### Convert question to SQL query\n",
    "\n",
    "Let's initialize a LLM that we will use in the chain. We will be using Google's [**Gemini 1.5 Flash**](https://ai.google.dev/gemini-api/docs/models/gemini#gemini-1.5-flash), since it offers a generous free tier for us to play around with."
   ]
  },
  {
   "cell_type": "code",
   "execution_count": 5,
   "id": "476f07f4-cc86-4f94-895d-b7fe3ce390c0",
   "metadata": {},
   "outputs": [],
   "source": [
    "from langchain_google_genai import ChatGoogleGenerativeAI\n",
    "\n",
    "llm = ChatGoogleGenerativeAI(\n",
    "    model=\"gemini-1.5-flash\", \n",
    "    temperature=0\n",
    ")"
   ]
  },
  {
   "cell_type": "markdown",
   "id": "9261b5c5-c3a2-46c3-8021-19dc27d5598a",
   "metadata": {},
   "source": [
    "The first step in a SQL chain or agent is to take the user input and convert it to a SQL query. LangChain comes with a built-in chain for this: [`create_sql_query_chain`](https://python.langchain.com/api_reference/langchain/chains/langchain.chains.sql_database.query.create_sql_query_chain.html)."
   ]
  },
  {
   "cell_type": "code",
   "execution_count": 5,
   "id": "994fb58a-f303-43c1-b1ef-7ac7bb1d26f2",
   "metadata": {},
   "outputs": [
    {
     "data": {
      "text/plain": [
       "'```sqlite\\nSELECT COUNT(*) FROM Employee\\n```'"
      ]
     },
     "execution_count": 5,
     "metadata": {},
     "output_type": "execute_result"
    }
   ],
   "source": [
    "from langchain.chains import create_sql_query_chain\n",
    "\n",
    "write_query = create_sql_query_chain(\n",
    "    llm=llm, \n",
    "    db=database\n",
    ")\n",
    "\n",
    "response = write_query.invoke(\n",
    "    input={\n",
    "        \"question\": \"How many employees are there?\"\n",
    "    }\n",
    ")\n",
    "\n",
    "response"
   ]
  },
  {
   "cell_type": "markdown",
   "id": "092f2262-37ae-4809-b9de-6a942ae3eb28",
   "metadata": {},
   "source": [
    "If we try executing the generated SQL directly, we will encounter a syntax error:"
   ]
  },
  {
   "cell_type": "code",
   "execution_count": 6,
   "id": "1ff855d4-3983-45e6-8831-d02ca7ef408b",
   "metadata": {},
   "outputs": [
    {
     "name": "stdout",
     "output_type": "stream",
     "text": [
      "(sqlite3.OperationalError) near \"```sqlite\n",
      "SELECT COUNT(*) FROM Employee\n",
      "```\": syntax error\n",
      "[SQL: ```sqlite\n",
      "SELECT COUNT(*) FROM Employee\n",
      "```]\n",
      "(Background on this error at: https://sqlalche.me/e/20/e3q8)\n"
     ]
    }
   ],
   "source": [
    "try:\n",
    "    print(\n",
    "        database.run(response)\n",
    "    )\n",
    "except Exception as error:\n",
    "    print(error)"
   ]
  },
  {
   "cell_type": "markdown",
   "id": "59521478-31f4-40c4-9efd-bc75f863c9ab",
   "metadata": {},
   "source": [
    "This is because the LLM generates SQL with `sqlite` tags. Instead, we need to extract a valid SQL from the response. To do this, we will make the LLM return structured output.\n",
    "\n",
    "> **See also**: [How to return structured data from a model](https://python.langchain.com/docs/how_to/structured_output/)"
   ]
  },
  {
   "cell_type": "code",
   "execution_count": 7,
   "id": "42b56cd4-8f99-4cac-b9ad-d360bde032e4",
   "metadata": {},
   "outputs": [],
   "source": [
    "from pydantic import (\n",
    "    BaseModel, \n",
    "    Field\n",
    ")\n",
    "\n",
    "class OutputFormat(BaseModel):\n",
    "    \"\"\"\n",
    "    The expected output format.    \n",
    "    \"\"\"\n",
    "    question: str = Field(\n",
    "        description=(\n",
    "            \"The user's question.\"\n",
    "        )\n",
    "    )\n",
    "    query: str = Field(\n",
    "        description=(\n",
    "            \"A valid SQL query that can be \"\n",
    "            \"executed against a SQLite database \"\n",
    "            \"to answer the user's question.\"            \n",
    "        )\n",
    "    )"
   ]
  },
  {
   "cell_type": "code",
   "execution_count": 8,
   "id": "fe6b5fa1-413c-4e2b-a855-1b833d3a9665",
   "metadata": {},
   "outputs": [
    {
     "data": {
      "text/plain": [
       "'SELECT COUNT(*) FROM Employee'"
      ]
     },
     "execution_count": 8,
     "metadata": {},
     "output_type": "execute_result"
    }
   ],
   "source": [
    "# Chain to extract a valid SQL from the \n",
    "# generated response\n",
    "parse_sql = (\n",
    "    llm.with_structured_output(\n",
    "        schema=OutputFormat\n",
    "    )\n",
    "    | (lambda output: output.query)\n",
    ")\n",
    "\n",
    "chain = (\n",
    "    write_query \n",
    "    | parse_sql\n",
    ")\n",
    "\n",
    "response = chain.invoke(\n",
    "    input={\n",
    "        \"question\": \"How many employees are there?\"\n",
    "    }\n",
    ")\n",
    "\n",
    "response"
   ]
  },
  {
   "cell_type": "markdown",
   "id": "069c86f9-13bf-4982-afbd-78b5f4e9d685",
   "metadata": {},
   "source": [
    "Now, we can successfully execute the SQL query:"
   ]
  },
  {
   "cell_type": "code",
   "execution_count": 9,
   "id": "d4683063-818a-43cb-ba7a-6fb17695603d",
   "metadata": {},
   "outputs": [
    {
     "name": "stdout",
     "output_type": "stream",
     "text": [
      "[(8,)]\n"
     ]
    }
   ],
   "source": [
    "try:\n",
    "    print(\n",
    "        database.run(response)\n",
    "    )\n",
    "except Exception as error:\n",
    "    print(error)"
   ]
  },
  {
   "cell_type": "markdown",
   "id": "8851b185-da23-444b-a555-86266eb0297a",
   "metadata": {},
   "source": [
    "We can look at the [LangSmith trace](https://smith.langchain.com/public/c0d0e922-9105-4974-b141-6898bf6e1eb4/r) to get a better understanding of what this chain is doing. We can also inspect the chain directly for its prompts. Looking at the prompt (below), we can see that it is:\n",
    "\n",
    "* Dialect-specific. In this case it references SQLite explicitly.\n",
    "* Has definitions for all the available tables.\n",
    "* Has three examples rows for each table.\n",
    "\n",
    "This technique is inspired by papers like [this](https://arxiv.org/pdf/2204.00498.pdf), which suggest showing examples rows and being explicit about tables improves performance. We can also inspect the full prompt like so:"
   ]
  },
  {
   "cell_type": "code",
   "execution_count": 10,
   "id": "4fb823f6-753e-4079-8e64-006484ea5b63",
   "metadata": {},
   "outputs": [
    {
     "name": "stdout",
     "output_type": "stream",
     "text": [
      "You are a SQLite expert. Given an input question, first create a syntactically correct SQLite query to run, then look at the results of the query and return the answer to the input question.\n",
      "Unless the user specifies in the question a specific number of examples to obtain, query for at most 5 results using the LIMIT clause as per SQLite. You can order the results to return the most informative data in the database.\n",
      "Never query for all columns from a table. You must query only the columns that are needed to answer the question. Wrap each column name in double quotes (\") to denote them as delimited identifiers.\n",
      "Pay attention to use only the column names you can see in the tables below. Be careful to not query for columns that do not exist. Also, pay attention to which column is in which table.\n",
      "Pay attention to use date('now') function to get the current date, if the question involves \"today\".\n",
      "\n",
      "Use the following format:\n",
      "\n",
      "Question: Question here\n",
      "SQLQuery: SQL Query to run\n",
      "SQLResult: Result of the SQLQuery\n",
      "Answer: Final answer here\n",
      "\n",
      "Only use the following tables:\n",
      "\u001b[33;1m\u001b[1;3m{table_info}\u001b[0m\n",
      "\n",
      "Question: \u001b[33;1m\u001b[1;3m{input}\u001b[0m\n"
     ]
    }
   ],
   "source": [
    "chain.get_prompts()[0].pretty_print()"
   ]
  },
  {
   "cell_type": "markdown",
   "id": "1401b687-9e6c-451b-b152-5f4f38548548",
   "metadata": {},
   "source": [
    "### Query Validation\n",
    "\n",
    "The most error-prone part of any SQL chain or agent is writing valid and safe SQL queries. We can make use of LangChain's built-in [`QuerySQLCheckerTool`](https://python.langchain.com/api_reference/community/tools/langchain_community.tools.sql_database.tool.QuerySQLCheckerTool.html) that uses an LLM to check the SQL query for common mistakes.\n",
    "\n",
    "> **See also**: [How to do query validation](https://python.langchain.com/docs/how_to/sql_query_checking/)"
   ]
  },
  {
   "cell_type": "code",
   "execution_count": 11,
   "id": "256b2763-ff5c-4084-b137-9115af103115",
   "metadata": {},
   "outputs": [],
   "source": [
    "from langchain_community.tools import QuerySQLCheckerTool\n",
    "\n",
    "check_query = QuerySQLCheckerTool(\n",
    "    db=database, \n",
    "    llm=llm\n",
    ")"
   ]
  },
  {
   "cell_type": "markdown",
   "id": "d7e85a85-44ba-44fb-9e67-af993d377a76",
   "metadata": {},
   "source": [
    "Let's check out the prompt that is used for checking the query:"
   ]
  },
  {
   "cell_type": "code",
   "execution_count": 12,
   "id": "2b153945-e8a7-439e-8e88-010095d00ab4",
   "metadata": {},
   "outputs": [
    {
     "name": "stdout",
     "output_type": "stream",
     "text": [
      "\n",
      "\u001b[33;1m\u001b[1;3m{query}\u001b[0m\n",
      "Double check the \u001b[33;1m\u001b[1;3m{dialect}\u001b[0m query above for common mistakes, including:\n",
      "- Using NOT IN with NULL values\n",
      "- Using UNION when UNION ALL should have been used\n",
      "- Using BETWEEN for exclusive ranges\n",
      "- Data type mismatch in predicates\n",
      "- Properly quoting identifiers\n",
      "- Using the correct number of arguments for functions\n",
      "- Casting to the correct data type\n",
      "- Using the proper columns for joins\n",
      "\n",
      "If there are any of the above mistakes, rewrite the query. If there are no mistakes, just reproduce the original query.\n",
      "\n",
      "Output the final SQL query only.\n",
      "\n",
      "SQL Query: \n"
     ]
    }
   ],
   "source": [
    "from langchain_core.prompts import PromptTemplate\n",
    "\n",
    "PromptTemplate.from_template(\n",
    "    template=check_query.template\n",
    ").pretty_print()"
   ]
  },
  {
   "cell_type": "markdown",
   "id": "1fa6fb64-50bf-41fe-95d3-8b7a1ee4baf3",
   "metadata": {},
   "source": [
    "Try running it on an incorrect SQL query (❌`NOT IN NULL` instead of ✅`IS NOT NULL`):"
   ]
  },
  {
   "cell_type": "code",
   "execution_count": 13,
   "id": "4b5155bd-8058-4cf7-9665-856278cdc7f6",
   "metadata": {},
   "outputs": [
    {
     "data": {
      "text/plain": [
       "'```sqlite\\nSELECT * FROM Employee WHERE LastName IS NOT NULL;\\n```'"
      ]
     },
     "execution_count": 13,
     "metadata": {},
     "output_type": "execute_result"
    }
   ],
   "source": [
    "check_query.invoke(\n",
    "    input={\n",
    "        \"query\": \"SELECT * FROM Employee WHERE LastName NOT IN NULL;\"\n",
    "    }\n",
    ")"
   ]
  },
  {
   "cell_type": "markdown",
   "id": "61a81a06-87e7-427b-ab10-4026ddc8e2a9",
   "metadata": {},
   "source": [
    "We can see that the LLM corrected our query. Let's move on to executing the query."
   ]
  },
  {
   "cell_type": "markdown",
   "id": "b894ab5f-5e60-436b-9217-28826f83e1e2",
   "metadata": {},
   "source": [
    "### Execute SQL query\n",
    "\n",
    "Now that we've generated a SQL query, we'll want to execute it. **This is the most dangerous part of creating a SQL chain.** Consider carefully if it is OK to run automated queries over your data. Minimize the database connection permissions as much as possible. Consider adding a human approval step to your chains before query execution.\n",
    "\n",
    "We can use the [`QuerySQLDatabaseTool`](https://python.langchain.com/api_reference/community/tools/langchain_community.tools.sql_database.tool.QuerySQLDataBaseTool.html) to easily add query execution to our chain:"
   ]
  },
  {
   "cell_type": "code",
   "execution_count": 14,
   "id": "af0e6999-6b1f-4c82-a1c1-59aac8b39c63",
   "metadata": {},
   "outputs": [
    {
     "data": {
      "text/plain": [
       "'[(8,)]'"
      ]
     },
     "execution_count": 14,
     "metadata": {},
     "output_type": "execute_result"
    }
   ],
   "source": [
    "from langchain_community.tools.sql_database.tool import (\n",
    "    QuerySQLDataBaseTool\n",
    ")\n",
    "\n",
    "execute_query = QuerySQLDataBaseTool(\n",
    "    db=database\n",
    ")\n",
    "\n",
    "chain = (\n",
    "    write_query \n",
    "    | check_query\n",
    "    | parse_sql\n",
    "    | execute_query\n",
    ")\n",
    "\n",
    "response = chain.invoke(\n",
    "    input={\n",
    "        \"question\": \"How many employees are there?\"\n",
    "    }\n",
    ")\n",
    "\n",
    "response"
   ]
  },
  {
   "cell_type": "markdown",
   "id": "80b363a9-5ebb-49eb-b6db-c94b6f97fe35",
   "metadata": {},
   "source": [
    "### Answer the question\n",
    "\n",
    "Now that we've got a way to automatically generate and execute queries, we just need to combine the original question and SQL query result to generate a final answer. We can do this by passing question and result to the LLM once more:"
   ]
  },
  {
   "cell_type": "code",
   "execution_count": 15,
   "id": "40f1dbde-5374-4d83-934b-0a044554bbf6",
   "metadata": {},
   "outputs": [
    {
     "name": "stdout",
     "output_type": "stream",
     "text": [
      "Given the following user question, corresponding SQL query, and SQL result, answer the user question.\n",
      "\n",
      "Question: \u001b[33;1m\u001b[1;3m{question}\u001b[0m\n",
      "SQL Query: \u001b[33;1m\u001b[1;3m{query}\u001b[0m\n",
      "SQL Result: \u001b[33;1m\u001b[1;3m{result}\u001b[0m\n",
      "Answer: \n"
     ]
    }
   ],
   "source": [
    "from langchain_core.prompts import PromptTemplate\n",
    "\n",
    "answer_prompt = PromptTemplate.from_template(\n",
    "    \"Given the following user question, \"\n",
    "    \"corresponding SQL query, and SQL result, \"\n",
    "    \"answer the user question.\\n\\n\" \n",
    "    \"Question: {question}\\n\"\n",
    "    \"SQL Query: {query}\\n\"\n",
    "    \"SQL Result: {result}\\n\"\n",
    "    \"Answer: \"\n",
    ")\n",
    "\n",
    "answer_prompt.pretty_print()"
   ]
  },
  {
   "cell_type": "code",
   "execution_count": 16,
   "id": "de0b066b-2a86-4a71-b790-e51dee07509c",
   "metadata": {},
   "outputs": [
    {
     "data": {
      "text/plain": [
       "'There are **8** employees. \\n'"
      ]
     },
     "execution_count": 16,
     "metadata": {},
     "output_type": "execute_result"
    }
   ],
   "source": [
    "from operator import itemgetter\n",
    "\n",
    "from langchain_core.output_parsers import StrOutputParser\n",
    "from langchain_core.runnables import RunnablePassthrough\n",
    "\n",
    "\n",
    "chain = (\n",
    "    RunnablePassthrough.assign(\n",
    "        query=(\n",
    "            write_query \n",
    "            | check_query \n",
    "            | parse_sql\n",
    "        )\n",
    "    ).assign(\n",
    "        result=(\n",
    "            itemgetter(\"query\") \n",
    "            | execute_query\n",
    "        )\n",
    "    )\n",
    "    | answer_prompt\n",
    "    | llm\n",
    "    | StrOutputParser()\n",
    ")\n",
    "\n",
    "response = chain.invoke(\n",
    "    input={\n",
    "        \"question\": \"How many employees are there?\"\n",
    "    }\n",
    ")\n",
    "\n",
    "response"
   ]
  },
  {
   "cell_type": "markdown",
   "id": "8dae8f48-7ed9-43ee-9be1-465465609dc8",
   "metadata": {},
   "source": [
    "Let's review what is happening in the above LangChain Expression Language (LCEL). When this chain is invoked:\n",
    "\n",
    "- After the first `RunnablePassthrough.assign`, we have a runnable with two keys:\n",
    "    ```python\n",
    "    {\n",
    "        \"question\": \"How many employees are there?\",\n",
    "        \"query\": write_query.invoke(question)\n",
    "    }\n",
    "    ```\n",
    "where `write_query` will generate a SQL query to answer the user's `question`.\n",
    "\n",
    "- After the second `RunnablePassthrough.assign`, we have add a third key `\"result\"` that contains `execute_query.invoke(query)`, where `query` was computed in the previous step.\n",
    "    ```python\n",
    "    {\n",
    "        \"question\": \"How many employees are there?\",\n",
    "        \"query\": write_query.invoke(question),\n",
    "        \"result\": execute_query.invoke(query)\n",
    "    }\n",
    "    ```\n",
    "    \n",
    "- These three inputs are formatted into the prompt and passed into the LLM.\n",
    "- The `StrOutputParser()` plucks out the string content of the output message.\n",
    "\n",
    "Note that we are composing LLMs, tools, prompts, and other chains together, but because each implements the `Runnable` interface, their inputs and outputs can be tied together in a reasonable way.\n",
    "\n",
    "> **See also**: [LangChain Expression Language Cheatsheet](https://python.langchain.com/docs/how_to/lcel_cheatsheet/)"
   ]
  },
  {
   "cell_type": "markdown",
   "id": "df0cac9d-3958-48fc-8946-d2a5a1496d0a",
   "metadata": {},
   "source": [
    "## Agent\n",
    "\n",
    "LangChain has a SQL Agent which provides a more flexible way of interacting with SQL Databases than a chain. The main advantages of using the SQL Agent are:\n",
    "\n",
    "- It can answer questions based on the database's schema as well as on the databases' content (e.g., describing a specific table).\n",
    "- It can recover from errors by running a generated SQL, catching the error and re-generate a new corrected SQL.\n",
    "- It can query the database as many times as needed to answer the user question.\n",
    "- It will save tokens by only retrieving the schema for relevant tables.\n",
    "\n",
    "To initialize the agent we'll use the [`SQLDatabaseToolkit`](https://python.langchain.com/docs/integrations/tools/sql_database/) to create a bunch of tools:"
   ]
  },
  {
   "cell_type": "code",
   "execution_count": 6,
   "id": "fce46e3d-6ff1-49c4-8890-183b6b9147ae",
   "metadata": {},
   "outputs": [],
   "source": [
    "from langchain_community.agent_toolkits import SQLDatabaseToolkit\n",
    "\n",
    "toolkit = SQLDatabaseToolkit(\n",
    "    db=database, \n",
    "    llm=llm\n",
    ")\n",
    "\n",
    "tools = toolkit.get_tools()"
   ]
  },
  {
   "cell_type": "markdown",
   "id": "0e66bf6b-5c3c-4ef4-be09-5e3b4078b8b3",
   "metadata": {},
   "source": [
    "Let's see what tools are available inside the `SQLDatabaseToolkit`:"
   ]
  },
  {
   "cell_type": "code",
   "execution_count": 7,
   "id": "8a23dd51-21d3-4915-89d7-2c989e89f9dc",
   "metadata": {},
   "outputs": [
    {
     "name": "stdout",
     "output_type": "stream",
     "text": [
      "<class 'langchain_community.tools.sql_database.tool.QuerySQLDataBaseTool'>\n",
      "name: sql_db_query\n",
      "description: Input to this tool is a detailed and correct SQL query, output is a result from the database. If the query is not correct, an error message will be returned. If an error is returned, rewrite the query, check the query, and try again. If you encounter an issue with Unknown column 'xxxx' in 'field list', use sql_db_schema to query the correct table fields.\n",
      "---\n",
      "<class 'langchain_community.tools.sql_database.tool.InfoSQLDatabaseTool'>\n",
      "name: sql_db_schema\n",
      "description: Input to this tool is a comma-separated list of tables, output is the schema and sample rows for those tables. Be sure that the tables actually exist by calling sql_db_list_tables first! Example Input: table1, table2, table3\n",
      "---\n",
      "<class 'langchain_community.tools.sql_database.tool.ListSQLDatabaseTool'>\n",
      "name: sql_db_list_tables\n",
      "description: Input is an empty string, output is a comma-separated list of tables in the database.\n",
      "---\n",
      "<class 'langchain_community.tools.sql_database.tool.QuerySQLCheckerTool'>\n",
      "name: sql_db_query_checker\n",
      "description: Use this tool to double check if your query is correct before executing it. Always use this tool before executing a query with sql_db_query!\n",
      "---\n"
     ]
    }
   ],
   "source": [
    "for tool in tools:\n",
    "    print(f\"{tool.__class__}\")\n",
    "    print(f\"name: {tool.name}\")\n",
    "    print(f\"description: {tool.description}\", end=\"\\n---\\n\")"
   ]
  },
  {
   "cell_type": "markdown",
   "id": "21108d14-ddb4-4dfa-a2bc-5bc7354901ac",
   "metadata": {},
   "source": [
    "### System Prompt\n",
    "\n",
    "We will also want to create a system prompt for our agent. This will consist of instructions for how to behave.\n",
    "\n",
    "Let's load the system prompt template from a file, since it is quite a long prompt:"
   ]
  },
  {
   "cell_type": "code",
   "execution_count": 34,
   "id": "edde0417-5fa4-4c30-b1ba-5a00582e0102",
   "metadata": {},
   "outputs": [],
   "source": [
    "from langchain_core.prompts import PromptTemplate\n",
    "\n",
    "system_prompt = PromptTemplate.from_file(\n",
    "    template_file=\"prompts/system-prompt-template.txt\"\n",
    ")"
   ]
  },
  {
   "cell_type": "markdown",
   "id": "6409c1b1-49fc-4e56-b714-47bacc218200",
   "metadata": {},
   "source": [
    "Take a peek at the prompt template:"
   ]
  },
  {
   "cell_type": "code",
   "execution_count": 35,
   "id": "7518df39-b70a-4a1a-a7c1-33a8ef9304d7",
   "metadata": {},
   "outputs": [
    {
     "name": "stdout",
     "output_type": "stream",
     "text": [
      "You are an agent designed to interact with a SQLite database.\n",
      "Given a user's question, create a syntactically correct SQLite query to run, then look at the results of the query and return the answer.\n",
      "\n",
      "You have access to the following tables in the database: \n",
      "\u001b[33;1m\u001b[1;3m{table_names}\u001b[0m\n",
      "\n",
      "When answering the user's question, follow these steps:\n",
      "\n",
      "1. Decide which tables are relevant to the user's question. Fetch the schema and sample rows for the relevant tables using the `sql_db_schema` tool.\n",
      "\n",
      "2. With the schema, generate a syntactically correct SQLite query. Use the following guidelines when generating the query:\n",
      "- Unless the user specifies a specific number of examples they wish to obtain, always limit your query to at most 5 results (i.e., `LIMIT 5`).\n",
      "- You can order the results by a relevant column to return the most interesting examples in the database (e.g., `ORDER BY Invoice.Total`).\n",
      "- Never query for all the columns from a specific table, only ask for the relevant columns given the question. For example, instead of `SELECT *`, write `SELECT Customer.FirstName, Customer.LastName`.\n",
      "- You are only allowed to generate `SELECT` statements. DO NOT make any DML (Data Manipulation Language) statements (`INSERT`, `UPDATE`, `DELETE`, `DROP` etc.) to the database.\n",
      "\n",
      "3. After generating the query, use the `sql_db_query_checker` tool to double check the query for any common mistakes.\n",
      "\n",
      "4. Execute the query against the database using the `sql_db_query` tool and return the results. If the query is invalid, an error message will be returned. If the error message mentions either \"no such table\" or \"no such column\", go back to step (1). For other type of errors, go back to step (2). If the query executed successfully, proceed to step (5).\n",
      "\n",
      "5. If the `sql_db_query` tool returns an empty result, let the user know that you could not find any relevant information in the database. Otherwise, generate an answer to the user's question based on the results returned from the database.\n"
     ]
    }
   ],
   "source": [
    "system_prompt.pretty_print()"
   ]
  },
  {
   "cell_type": "markdown",
   "id": "804f493d-8a16-4b4f-a85a-277acb909097",
   "metadata": {},
   "source": [
    "Feed the comma separated table names into the prompt template:"
   ]
  },
  {
   "cell_type": "code",
   "execution_count": 36,
   "id": "16c25e6a-ba40-4dd9-91ae-240b3f34f767",
   "metadata": {},
   "outputs": [],
   "source": [
    "from langchain_core.messages import SystemMessage\n",
    "\n",
    "system_message = SystemMessage(\n",
    "    content=system_prompt.format(\n",
    "        table_names=\", \".join(\n",
    "            database.get_usable_table_names()\n",
    "        )\n",
    "    )\n",
    ")"
   ]
  },
  {
   "cell_type": "code",
   "execution_count": 37,
   "id": "f89a5e2c-4d5b-4e01-8696-57d4c797cda1",
   "metadata": {},
   "outputs": [
    {
     "name": "stdout",
     "output_type": "stream",
     "text": [
      "================================\u001b[1m System Message \u001b[0m================================\n",
      "\n",
      "You are an agent designed to interact with a SQLite database.\n",
      "Given a user's question, create a syntactically correct SQLite query to run, then look at the results of the query and return the answer.\n",
      "\n",
      "You have access to the following tables in the database: \n",
      "Album, Artist, Customer, Employee, Genre, Invoice, InvoiceLine, MediaType, Playlist, PlaylistTrack, Track\n",
      "\n",
      "When answering the user's question, follow these steps:\n",
      "\n",
      "1. Decide which tables are relevant to the user's question. Fetch the schema and sample rows for the relevant tables using the `sql_db_schema` tool.\n",
      "\n",
      "2. With the schema, generate a syntactically correct SQLite query. Use the following guidelines when generating the query:\n",
      "- Unless the user specifies a specific number of examples they wish to obtain, always limit your query to at most 5 results (i.e., `LIMIT 5`).\n",
      "- You can order the results by a relevant column to return the most interesting examples in the database (e.g., `ORDER BY Invoice.Total`).\n",
      "- Never query for all the columns from a specific table, only ask for the relevant columns given the question. For example, instead of `SELECT *`, write `SELECT Customer.FirstName, Customer.LastName`.\n",
      "- You are only allowed to generate `SELECT` statements. DO NOT make any DML (Data Manipulation Language) statements (`INSERT`, `UPDATE`, `DELETE`, `DROP` etc.) to the database.\n",
      "\n",
      "3. After generating the query, use the `sql_db_query_checker` tool to double check the query for any common mistakes.\n",
      "\n",
      "4. Execute the query against the database using the `sql_db_query` tool and return the results. If the query is invalid, an error message will be returned. If the error message mentions either \"no such table\" or \"no such column\", go back to step (1). For other type of errors, go back to step (2). If the query executed successfully, proceed to step (5).\n",
      "\n",
      "5. If the `sql_db_query` tool returns an empty result, let the user know that you could not find any relevant information in the database. Otherwise, generate an answer to the user's question based on the results returned from the database.\n"
     ]
    }
   ],
   "source": [
    "system_message.pretty_print()"
   ]
  },
  {
   "cell_type": "markdown",
   "id": "b011031e-05e5-4fd6-83d6-80e13908fdd3",
   "metadata": {},
   "source": [
    "### Initialize the agent\n",
    "\n",
    "We will make use of [LangGraph's pre-built agent](https://langchain-ai.github.io/langgraph/reference/prebuilt/#create_react_agent) for our SQL agent, instead of building one from scratch:"
   ]
  },
  {
   "cell_type": "code",
   "execution_count": 13,
   "id": "65155cd5-f6f8-4ac2-9043-e4f863cf4098",
   "metadata": {},
   "outputs": [
    {
     "name": "stderr",
     "output_type": "stream",
     "text": [
      "Key 'title' is not supported in schema, ignoring\n",
      "Key 'title' is not supported in schema, ignoring\n",
      "Key 'title' is not supported in schema, ignoring\n",
      "Key 'title' is not supported in schema, ignoring\n",
      "Key 'default' is not supported in schema, ignoring\n",
      "Key 'title' is not supported in schema, ignoring\n",
      "Key 'title' is not supported in schema, ignoring\n",
      "Key 'title' is not supported in schema, ignoring\n",
      "Key 'title' is not supported in schema, ignoring\n"
     ]
    }
   ],
   "source": [
    "from langchain_core.messages import HumanMessage\n",
    "from langgraph.prebuilt import create_react_agent\n",
    "\n",
    "\n",
    "agent_graph = create_react_agent(\n",
    "    model=llm, \n",
    "    tools=tools, \n",
    "    state_modifier=system_message\n",
    ")"
   ]
  },
  {
   "cell_type": "markdown",
   "id": "0fef54d6-66b3-4713-afde-6f4f5e6450d5",
   "metadata": {},
   "source": [
    "Let's visualize the graph representing the agent's workflow:"
   ]
  },
  {
   "cell_type": "code",
   "execution_count": 14,
   "id": "aad640bf-75e6-4aa6-aaf2-bb408231a206",
   "metadata": {},
   "outputs": [
    {
     "data": {
      "image/jpeg": "[encoded data removed]",
      "text/plain": [
       "<IPython.core.display.Image object>"
      ]
     },
     "metadata": {},
     "output_type": "display_data"
    }
   ],
   "source": [
    "from IPython.display import Image, display\n",
    "\n",
    "display(\n",
    "    Image(\n",
    "        agent_graph.get_graph().draw_mermaid_png()\n",
    "    )\n",
    ")"
   ]
  },
  {
   "cell_type": "markdown",
   "id": "ed3d5d68-c3dc-4e01-b05e-9232a743e43e",
   "metadata": {},
   "source": [
    "Create a helper function to stream back values from the graph. This allows us to see what the agent is doing at each step."
   ]
  },
  {
   "cell_type": "code",
   "execution_count": 15,
   "id": "9a5265e2-7442-402e-964c-c2507184f1ed",
   "metadata": {},
   "outputs": [],
   "source": [
    "from langgraph.graph import Graph\n",
    "\n",
    "\n",
    "def stream_graph_values(\n",
    "    graph: Graph,\n",
    "    user_input: str,    \n",
    ") -> None:\n",
    "    inputs = {\n",
    "        \"messages\": [\n",
    "            (\"human\", user_input)            \n",
    "        ]\n",
    "    }\n",
    "    \n",
    "    for chunk in graph.stream(\n",
    "        input=inputs, \n",
    "        stream_mode=\"values\"\n",
    "    ):\n",
    "        chunk[\"messages\"][-1].pretty_print()"
   ]
  },
  {
   "cell_type": "markdown",
   "id": "071ce10e-7d0a-45d2-82e1-d5efb9bd7acc",
   "metadata": {},
   "source": [
    "Consider how the agent responds to the below question:"
   ]
  },
  {
   "cell_type": "code",
   "execution_count": 17,
   "id": "4c7f5345-eaa5-4a01-a018-aaf04bd704e6",
   "metadata": {},
   "outputs": [
    {
     "name": "stdout",
     "output_type": "stream",
     "text": [
      "================================\u001b[1m Human Message \u001b[0m=================================\n",
      "\n",
      "Which country's customers spent the most?\n",
      "==================================\u001b[1m Ai Message \u001b[0m==================================\n",
      "Tool Calls:\n",
      "  sql_db_schema (ab2dbb20-22e2-48a9-ae6b-41c14dcfa506)\n",
      " Call ID: ab2dbb20-22e2-48a9-ae6b-41c14dcfa506\n",
      "  Args:\n",
      "    table_names: Customer, Invoice\n",
      "=================================\u001b[1m Tool Message \u001b[0m=================================\n",
      "Name: sql_db_schema\n",
      "\n",
      "\n",
      "CREATE TABLE \"Customer\" (\n",
      "\t\"CustomerId\" INTEGER NOT NULL, \n",
      "\t\"FirstName\" NVARCHAR(40) NOT NULL, \n",
      "\t\"LastName\" NVARCHAR(20) NOT NULL, \n",
      "\t\"Company\" NVARCHAR(80), \n",
      "\t\"Address\" NVARCHAR(70), \n",
      "\t\"City\" NVARCHAR(40), \n",
      "\t\"State\" NVARCHAR(40), \n",
      "\t\"Country\" NVARCHAR(40), \n",
      "\t\"PostalCode\" NVARCHAR(10), \n",
      "\t\"Phone\" NVARCHAR(24), \n",
      "\t\"Fax\" NVARCHAR(24), \n",
      "\t\"Email\" NVARCHAR(60) NOT NULL, \n",
      "\t\"SupportRepId\" INTEGER, \n",
      "\tPRIMARY KEY (\"CustomerId\"), \n",
      "\tFOREIGN KEY(\"SupportRepId\") REFERENCES \"Employee\" (\"EmployeeId\")\n",
      ")\n",
      "\n",
      "/*\n",
      "3 rows from Customer table:\n",
      "CustomerId\tFirstName\tLastName\tCompany\tAddress\tCity\tState\tCountry\tPostalCode\tPhone\tFax\tEmail\tSupportRepId\n",
      "1\tLuís\tGonçalves\tEmbraer - Empresa Brasileira de Aeronáutica S.A.\tAv. Brigadeiro Faria Lima, 2170\tSão José dos Campos\tSP\tBrazil\t12227-000\t+55 (12) 3923-5555\t+55 (12) 3923-5566\tluisg@embraer.com.br\t3\n",
      "2\tLeonie\tKöhler\tNone\tTheodor-Heuss-Straße 34\tStuttgart\tNone\tGermany\t70174\t+49 0711 2842222\tNone\tleonekohler@surfeu.de\t5\n",
      "3\tFrançois\tTremblay\tNone\t1498 rue Bélanger\tMontréal\tQC\tCanada\tH2G 1A7\t+1 (514) 721-4711\tNone\tftremblay@gmail.com\t3\n",
      "*/\n",
      "\n",
      "\n",
      "CREATE TABLE \"Invoice\" (\n",
      "\t\"InvoiceId\" INTEGER NOT NULL, \n",
      "\t\"CustomerId\" INTEGER NOT NULL, \n",
      "\t\"InvoiceDate\" DATETIME NOT NULL, \n",
      "\t\"BillingAddress\" NVARCHAR(70), \n",
      "\t\"BillingCity\" NVARCHAR(40), \n",
      "\t\"BillingState\" NVARCHAR(40), \n",
      "\t\"BillingCountry\" NVARCHAR(40), \n",
      "\t\"BillingPostalCode\" NVARCHAR(10), \n",
      "\t\"Total\" NUMERIC(10, 2) NOT NULL, \n",
      "\tPRIMARY KEY (\"InvoiceId\"), \n",
      "\tFOREIGN KEY(\"CustomerId\") REFERENCES \"Customer\" (\"CustomerId\")\n",
      ")\n",
      "\n",
      "/*\n",
      "3 rows from Invoice table:\n",
      "InvoiceId\tCustomerId\tInvoiceDate\tBillingAddress\tBillingCity\tBillingState\tBillingCountry\tBillingPostalCode\tTotal\n",
      "1\t2\t2021-01-01 00:00:00\tTheodor-Heuss-Straße 34\tStuttgart\tNone\tGermany\t70174\t1.98\n",
      "2\t4\t2021-01-02 00:00:00\tUllevålsveien 14\tOslo\tNone\tNorway\t0171\t3.96\n",
      "3\t8\t2021-01-03 00:00:00\tGrétrystraat 63\tBrussels\tNone\tBelgium\t1000\t5.94\n",
      "*/\n",
      "==================================\u001b[1m Ai Message \u001b[0m==================================\n",
      "Tool Calls:\n",
      "  sql_db_query_checker (68684725-86b4-489e-8dc9-9ae9a992eeca)\n",
      " Call ID: 68684725-86b4-489e-8dc9-9ae9a992eeca\n",
      "  Args:\n",
      "    query: SELECT T2.Country, SUM(T1.Total) AS TotalSpent FROM Invoice AS T1 INNER JOIN Customer AS T2 ON T1.CustomerId = T2.CustomerId GROUP BY T2.Country ORDER BY TotalSpent DESC LIMIT 5\n",
      "=================================\u001b[1m Tool Message \u001b[0m=================================\n",
      "Name: sql_db_query_checker\n",
      "\n",
      "```sql\n",
      "SELECT T2.Country, SUM(T1.Total) AS TotalSpent FROM Invoice AS T1 INNER JOIN Customer AS T2 ON T1.CustomerId = T2.CustomerId GROUP BY T2.Country ORDER BY TotalSpent DESC LIMIT 5\n",
      "```\n",
      "==================================\u001b[1m Ai Message \u001b[0m==================================\n",
      "Tool Calls:\n",
      "  sql_db_query (f93a9b76-89b1-4328-8a38-a7e46ab3bb9d)\n",
      " Call ID: f93a9b76-89b1-4328-8a38-a7e46ab3bb9d\n",
      "  Args:\n",
      "    query: SELECT T2.Country, SUM(T1.Total) AS TotalSpent FROM Invoice AS T1 INNER JOIN Customer AS T2 ON T1.CustomerId = T2.CustomerId GROUP BY T2.Country ORDER BY TotalSpent DESC LIMIT 5\n",
      "=================================\u001b[1m Tool Message \u001b[0m=================================\n",
      "Name: sql_db_query\n",
      "\n",
      "[('USA', 523.06), ('Canada', 303.96), ('France', 195.1), ('Brazil', 190.1), ('Germany', 156.48)]\n",
      "==================================\u001b[1m Ai Message \u001b[0m==================================\n",
      "\n",
      "The USA customers spent the most.\n"
     ]
    }
   ],
   "source": [
    "stream_graph_values(\n",
    "    graph=agent_graph,\n",
    "    user_input=\"Which country's customers spent the most?\",    \n",
    ")"
   ]
  },
  {
   "cell_type": "markdown",
   "id": "0d0f8b39-1544-4fad-9cf4-22c8aa7e6dc8",
   "metadata": {},
   "source": [
    "Notice that the agent will use different tools at its disposal until it has all the information it needs to answer the user's question:\n",
    "1. Retrieves the schema for the relevant tables.\n",
    "2. Query the tables via a `INNER JOIN` operation.\n",
    "3. Check the generated query for common mistakes before executing the query.\n",
    "\n",
    "The agent is then able to use the result of the final query to generate an answer to the original question.\n",
    "\n",
    "The agent can similarly handle qualitative questions:"
   ]
  },
  {
   "cell_type": "code",
   "execution_count": 18,
   "id": "3cac27ae-dc71-46af-86a7-78ab16c1d771",
   "metadata": {},
   "outputs": [
    {
     "name": "stdout",
     "output_type": "stream",
     "text": [
      "================================\u001b[1m Human Message \u001b[0m=================================\n",
      "\n",
      "Describe the PlaylistTrack table.\n",
      "==================================\u001b[1m Ai Message \u001b[0m==================================\n",
      "Tool Calls:\n",
      "  sql_db_schema (4558b828-54bd-4266-8c7d-5520ea277123)\n",
      " Call ID: 4558b828-54bd-4266-8c7d-5520ea277123\n",
      "  Args:\n",
      "    table_names: PlaylistTrack\n",
      "=================================\u001b[1m Tool Message \u001b[0m=================================\n",
      "Name: sql_db_schema\n",
      "\n",
      "\n",
      "CREATE TABLE \"PlaylistTrack\" (\n",
      "\t\"PlaylistId\" INTEGER NOT NULL, \n",
      "\t\"TrackId\" INTEGER NOT NULL, \n",
      "\tPRIMARY KEY (\"PlaylistId\", \"TrackId\"), \n",
      "\tFOREIGN KEY(\"TrackId\") REFERENCES \"Track\" (\"TrackId\"), \n",
      "\tFOREIGN KEY(\"PlaylistId\") REFERENCES \"Playlist\" (\"PlaylistId\")\n",
      ")\n",
      "\n",
      "/*\n",
      "3 rows from PlaylistTrack table:\n",
      "PlaylistId\tTrackId\n",
      "1\t3402\n",
      "1\t3389\n",
      "1\t3390\n",
      "*/\n",
      "==================================\u001b[1m Ai Message \u001b[0m==================================\n",
      "\n",
      "The PlaylistTrack table has two columns: PlaylistId and TrackId. It stores the relationship between playlists and tracks. Each row represents a track that is included in a specific playlist. The table has a primary key consisting of both PlaylistId and TrackId, ensuring that each track appears only once in a given playlist. It also has foreign keys referencing the Track and Playlist tables, ensuring data integrity.\n"
     ]
    }
   ],
   "source": [
    "stream_graph_values(\n",
    "    graph=agent_graph,\n",
    "    user_input=\"Describe the PlaylistTrack table.\",\n",
    ")"
   ]
  },
  {
   "cell_type": "markdown",
   "id": "09913f5c-ad96-4946-9796-ccdfb36ad68b",
   "metadata": {},
   "source": [
    "Let's try it out with a more difficult question that requires pulling information in from multiple tables:"
   ]
  },
  {
   "cell_type": "code",
   "execution_count": 20,
   "id": "25a64cca-5b10-4056-a1f2-133dd341d944",
   "metadata": {},
   "outputs": [
    {
     "name": "stdout",
     "output_type": "stream",
     "text": [
      "================================\u001b[1m Human Message \u001b[0m=================================\n",
      "\n",
      "What is the total price for the album 'Big Ones'?\n",
      "==================================\u001b[1m Ai Message \u001b[0m==================================\n",
      "Tool Calls:\n",
      "  sql_db_schema (97e06c6b-cd68-4ba5-97ab-a259d3051beb)\n",
      " Call ID: 97e06c6b-cd68-4ba5-97ab-a259d3051beb\n",
      "  Args:\n",
      "    table_names: Album, Track, InvoiceLine\n",
      "=================================\u001b[1m Tool Message \u001b[0m=================================\n",
      "Name: sql_db_schema\n",
      "\n",
      "\n",
      "CREATE TABLE \"Album\" (\n",
      "\t\"AlbumId\" INTEGER NOT NULL, \n",
      "\t\"Title\" NVARCHAR(160) NOT NULL, \n",
      "\t\"ArtistId\" INTEGER NOT NULL, \n",
      "\tPRIMARY KEY (\"AlbumId\"), \n",
      "\tFOREIGN KEY(\"ArtistId\") REFERENCES \"Artist\" (\"ArtistId\")\n",
      ")\n",
      "\n",
      "/*\n",
      "3 rows from Album table:\n",
      "AlbumId\tTitle\tArtistId\n",
      "1\tFor Those About To Rock We Salute You\t1\n",
      "2\tBalls to the Wall\t2\n",
      "3\tRestless and Wild\t2\n",
      "*/\n",
      "\n",
      "\n",
      "CREATE TABLE \"InvoiceLine\" (\n",
      "\t\"InvoiceLineId\" INTEGER NOT NULL, \n",
      "\t\"InvoiceId\" INTEGER NOT NULL, \n",
      "\t\"TrackId\" INTEGER NOT NULL, \n",
      "\t\"UnitPrice\" NUMERIC(10, 2) NOT NULL, \n",
      "\t\"Quantity\" INTEGER NOT NULL, \n",
      "\tPRIMARY KEY (\"InvoiceLineId\"), \n",
      "\tFOREIGN KEY(\"TrackId\") REFERENCES \"Track\" (\"TrackId\"), \n",
      "\tFOREIGN KEY(\"InvoiceId\") REFERENCES \"Invoice\" (\"InvoiceId\")\n",
      ")\n",
      "\n",
      "/*\n",
      "3 rows from InvoiceLine table:\n",
      "InvoiceLineId\tInvoiceId\tTrackId\tUnitPrice\tQuantity\n",
      "1\t1\t2\t0.99\t1\n",
      "2\t1\t4\t0.99\t1\n",
      "3\t2\t6\t0.99\t1\n",
      "*/\n",
      "\n",
      "\n",
      "CREATE TABLE \"Track\" (\n",
      "\t\"TrackId\" INTEGER NOT NULL, \n",
      "\t\"Name\" NVARCHAR(200) NOT NULL, \n",
      "\t\"AlbumId\" INTEGER, \n",
      "\t\"MediaTypeId\" INTEGER NOT NULL, \n",
      "\t\"GenreId\" INTEGER, \n",
      "\t\"Composer\" NVARCHAR(220), \n",
      "\t\"Milliseconds\" INTEGER NOT NULL, \n",
      "\t\"Bytes\" INTEGER, \n",
      "\t\"UnitPrice\" NUMERIC(10, 2) NOT NULL, \n",
      "\tPRIMARY KEY (\"TrackId\"), \n",
      "\tFOREIGN KEY(\"MediaTypeId\") REFERENCES \"MediaType\" (\"MediaTypeId\"), \n",
      "\tFOREIGN KEY(\"GenreId\") REFERENCES \"Genre\" (\"GenreId\"), \n",
      "\tFOREIGN KEY(\"AlbumId\") REFERENCES \"Album\" (\"AlbumId\")\n",
      ")\n",
      "\n",
      "/*\n",
      "3 rows from Track table:\n",
      "TrackId\tName\tAlbumId\tMediaTypeId\tGenreId\tComposer\tMilliseconds\tBytes\tUnitPrice\n",
      "1\tFor Those About To Rock (We Salute You)\t1\t1\t1\tAngus Young, Malcolm Young, Brian Johnson\t343719\t11170334\t0.99\n",
      "2\tBalls to the Wall\t2\t2\t1\tU. Dirkschneider, W. Hoffmann, H. Frank, P. Baltes, S. Kaufmann, G. Hoffmann\t342562\t5510424\t0.99\n",
      "3\tFast As a Shark\t3\t2\t1\tF. Baltes, S. Kaufman, U. Dirkscneider & W. Hoffman\t230619\t3990994\t0.99\n",
      "*/\n",
      "==================================\u001b[1m Ai Message \u001b[0m==================================\n",
      "Tool Calls:\n",
      "  sql_db_query (f4695371-f017-419a-8423-cf42cce81384)\n",
      " Call ID: f4695371-f017-419a-8423-cf42cce81384\n",
      "  Args:\n",
      "    query: SELECT SUM(T2.UnitPrice * T2.Quantity) FROM Album AS T1 INNER JOIN InvoiceLine AS T2 ON T1.AlbumId = T2.TrackId INNER JOIN Track AS T3 ON T2.TrackId = T3.TrackId WHERE T1.Title = \"Big Ones\"\n",
      "=================================\u001b[1m Tool Message \u001b[0m=================================\n",
      "Name: sql_db_query\n",
      "\n",
      "[(0.99,)]\n",
      "==================================\u001b[1m Ai Message \u001b[0m==================================\n",
      "\n",
      "The total price for the album 'Big Ones' is 0.99.\n"
     ]
    }
   ],
   "source": [
    "stream_graph_values(\n",
    "    graph=agent_graph,\n",
    "    user_input=\"What is the total price for the album 'Big Ones'?\"\n",
    ")"
   ]
  },
  {
   "cell_type": "markdown",
   "id": "91860a7a-164c-4feb-bc96-6d3b58ab8462",
   "metadata": {},
   "source": [
    "Notice that the generated SQL above is wrong (join on incorrect column) and thus returns an incorrect answer. For more complex queries, the LLM will need some help from us."
   ]
  },
  {
   "cell_type": "markdown",
   "id": "6dee9014-9112-4265-ad82-bb81cf121ed3",
   "metadata": {},
   "source": [
    "### Few-shot Examples\n",
    "\n",
    "Including examples of natural language questions being converted to valid SQL queries against our database in the prompt will often improve model performance, especially for complex queries.\n",
    "\n",
    "> Further reading:\n",
    "> * [How to better prompt when doing SQL question-answering](https://python.langchain.com/docs/how_to/sql_prompting/)\n",
    "> * [How to use few shot examples](https://python.langchain.com/docs/how_to/few_shot_examples/)\n",
    "\n",
    "Let's load in some examples from a JSON file. To see how the examples in the JSON file were created, take a look at this [notebook](examples-to-json.ipynb)."
   ]
  },
  {
   "cell_type": "code",
   "execution_count": 21,
   "id": "c0629e60-4105-46bf-8b9e-61f8d760377e",
   "metadata": {},
   "outputs": [
    {
     "data": {
      "text/plain": [
       "[{'question': 'What is the most popular media type among all the tracks?',\n",
       "  'query': 'SELECT MediaType.Name AS media_type, COUNT(Track.TrackId) AS track_count FROM Track INNER JOIN MediaType ON MediaType.MediaTypeId = Track.MediaTypeId GROUP BY Track.MediaTypeId ORDER BY track_count DESC LIMIT 5;'},\n",
       " {'question': \"What is the total price for the album 'Big Ones'?\",\n",
       "  'query': \"SELECT Album.Title AS album_title, SUM(Track.UnitPrice) AS album_price FROM Track INNER JOIN Album ON Album.AlbumId = Track.AlbumId WHERE Album.Title = 'Big Ones' GROUP BY Track.AlbumId;\"},\n",
       " {'question': 'Which tracks made the most in total sales?',\n",
       "  'query': 'SELECT Track.Name AS track_name, SUM( InvoiceLine.Quantity * InvoiceLine.UnitPrice ) AS total_sales FROM InvoiceLine INNER JOIN Track ON InvoiceLine.TrackId = Track.TrackId GROUP BY InvoiceLine.TrackId ORDER BY total_sales DESC LIMIT 5;'}]"
      ]
     },
     "execution_count": 21,
     "metadata": {},
     "output_type": "execute_result"
    }
   ],
   "source": [
    "import json\n",
    "\n",
    "with open(\n",
    "    file=\"examples/examples.json\", \n",
    "    encoding=\"utf-8\"\n",
    ") as f:\n",
    "    examples = json.load(f)\n",
    "\n",
    "# print out a few examples\n",
    "examples[:3]"
   ]
  },
  {
   "cell_type": "markdown",
   "id": "41f71309-d28e-4201-ac5a-e2255cf26964",
   "metadata": {},
   "source": [
    "An example looks like:\n",
    "\n",
    "```python\n",
    "{\n",
    "    \"question\": \"How many employees are there?\"\n",
    "    \"query\": \"SELECT COUNT(*) FROM Employee;\"\n",
    "}\n",
    "```\n",
    "\n",
    "where the `question` key is the user's question and the `query` key is the SQL query used to fetch the relevant data to answer the user's question.\n",
    "\n",
    "\n",
    "#### Select relevant examples\n",
    "\n",
    "If we have a lot of examples, we may want to only include the most relevant ones in the prompt. Either, because they don't fit in the model's context window or because the irrelevant examples end up distracting the model. So, given a user's question, we only want to include the most relevant examples.\n",
    "\n",
    "We can do this using LangChain's [Example Selectors](https://python.langchain.com/docs/concepts/#example-selectors). In this case we'll use a [`SemanticSimilarityExampleSelector`](https://python.langchain.com/docs/how_to/example_selectors_similarity/), which will store the examples in a vector database. At runtime it will perform a similarity search between the user's question and our examples, and return the most semantically similar ones (i.e., the ones with the most similar meaning).\n",
    "\n",
    "Here we are using [FAISS](https://python.langchain.com/docs/integrations/vectorstores/faiss/) as our vector store and Google's Generative AI [text embedding model](https://ai.google.dev/gemini-api/docs/models/gemini#text-embedding) since we are using **Gemini 1.5 Flash**:"
   ]
  },
  {
   "cell_type": "code",
   "execution_count": 23,
   "id": "50674720-0b84-4b23-a6f3-c2a7401a7b8f",
   "metadata": {},
   "outputs": [],
   "source": [
    "from langchain_community.vectorstores import FAISS\n",
    "from langchain_core.example_selectors import (\n",
    "    SemanticSimilarityExampleSelector\n",
    ")\n",
    "from langchain_google_genai import GoogleGenerativeAIEmbeddings\n",
    "\n",
    "\n",
    "example_selector = SemanticSimilarityExampleSelector.from_examples(\n",
    "    examples=examples,\n",
    "    embeddings=GoogleGenerativeAIEmbeddings(\n",
    "        model=\"models/text-embedding-004\"\n",
    "    ),\n",
    "    vectorstore_cls=FAISS,\n",
    "    k=4, # returns the top 4 most similar examples\n",
    "    input_keys=[\"question\"],\n",
    ")"
   ]
  },
  {
   "cell_type": "code",
   "execution_count": 24,
   "id": "6f160b18-cb66-4ed4-9e01-e0873afd2b17",
   "metadata": {},
   "outputs": [
    {
     "data": {
      "text/plain": [
       "[{'question': \"What is the total price for the album 'Big Ones'?\",\n",
       "  'query': \"SELECT Album.Title AS album_title, SUM(Track.UnitPrice) AS album_price FROM Track INNER JOIN Album ON Album.AlbumId = Track.AlbumId WHERE Album.Title = 'Big Ones' GROUP BY Track.AlbumId;\"},\n",
       " {'question': \"How many tracks are there in the album 'Big Ones'?\",\n",
       "  'query': \"SELECT Album.Title AS album_title, COUNT(Track.TrackId) AS track_count FROM Track INNER JOIN Album ON Album.AlbumId = Track.AlbumId WHERE Album.Title = 'Big Ones';\"},\n",
       " {'question': 'Which tracks made the most in total sales?',\n",
       "  'query': 'SELECT Track.Name AS track_name, SUM( InvoiceLine.Quantity * InvoiceLine.UnitPrice ) AS total_sales FROM InvoiceLine INNER JOIN Track ON InvoiceLine.TrackId = Track.TrackId GROUP BY InvoiceLine.TrackId ORDER BY total_sales DESC LIMIT 5;'},\n",
       " {'question': 'Which tracks sold the most number of units?',\n",
       "  'query': 'SELECT Track.Name, SUM(InvoiceLine.Quantity) AS total_quantity FROM InvoiceLine INNER JOIN Track ON Track.TrackId = InvoiceLine.TrackId GROUP BY InvoiceLine.TrackId ORDER BY total_quantity DESC LIMIT 5;'}]"
      ]
     },
     "execution_count": 24,
     "metadata": {},
     "output_type": "execute_result"
    }
   ],
   "source": [
    "example_selector.select_examples(\n",
    "    {\"question\": \"What is the total price for the album 'Big Ones'?\"}\n",
    ")"
   ]
  },
  {
   "cell_type": "markdown",
   "id": "c9c94c99-cd3e-4f7e-876c-0739b5a413d5",
   "metadata": {},
   "source": [
    "#### Create a formatter for the few-shot examples\n",
    "\n",
    "Configure a formatter that will format the few-shot examples into a string. This formatter should be a [`PromptTemplate`](https://python.langchain.com/api_reference/core/prompts/langchain_core.prompts.prompt.PromptTemplate.html) object."
   ]
  },
  {
   "cell_type": "code",
   "execution_count": 25,
   "id": "04e197a4-aef3-47e4-8f32-2ce3cc181858",
   "metadata": {},
   "outputs": [
    {
     "name": "stdout",
     "output_type": "stream",
     "text": [
      "Question: \u001b[33;1m\u001b[1;3m{question}\u001b[0m\n",
      "SQL query: \u001b[33;1m\u001b[1;3m{query}\u001b[0m\n"
     ]
    }
   ],
   "source": [
    "from langchain_core.prompts import PromptTemplate\n",
    "\n",
    "example_prompt = PromptTemplate.from_template(\n",
    "    \"Question: {question}\\n\"\n",
    "    \"SQL query: {query}\"\n",
    ")\n",
    "\n",
    "example_prompt.pretty_print()"
   ]
  },
  {
   "cell_type": "markdown",
   "id": "ba9fa496-82bf-4e9a-8670-bfdeedbc895f",
   "metadata": {},
   "source": [
    "Let's test the formatting prompt with one of our examples:"
   ]
  },
  {
   "cell_type": "code",
   "execution_count": 26,
   "id": "59f41337-8527-4087-b360-f8756c34cc30",
   "metadata": {},
   "outputs": [
    {
     "name": "stdout",
     "output_type": "stream",
     "text": [
      "Question: What is the most popular media type among all the tracks?\n",
      "SQL query: SELECT MediaType.Name AS media_type, COUNT(Track.TrackId) AS track_count FROM Track INNER JOIN MediaType ON MediaType.MediaTypeId = Track.MediaTypeId GROUP BY Track.MediaTypeId ORDER BY track_count DESC LIMIT 5;\n"
     ]
    }
   ],
   "source": [
    "print(\n",
    "    example_prompt.format(**examples[0])\n",
    ")"
   ]
  },
  {
   "cell_type": "markdown",
   "id": "0967d2bf-b2c2-47a2-95e3-2e4d7acefe2f",
   "metadata": {},
   "source": [
    "#### Pass example selector and formatter to `FewShotPromptTemplate`\n",
    "\n",
    "Create a [`FewShotPromptTemplate`](https://python.langchain.com/api_reference/core/prompts/langchain_core.prompts.few_shot.FewShotPromptTemplate.html) object. This object takes in the example selector and the formatter prompt we defined above for the few-shot examples. When this `FewShotPromptTemplate` is formatted, it formats the passed examples using the `example_prompt` formatter.\n",
    "\n",
    "The `prefix` part of the prompt comes **before** the few-shot examples. The `suffix` part comes **after** the few-shot examples."
   ]
  },
  {
   "cell_type": "code",
   "execution_count": 27,
   "id": "7447e5af-6636-41ad-8b92-be1126dfd8c8",
   "metadata": {},
   "outputs": [],
   "source": [
    "from langchain_core.prompts import FewShotPromptTemplate\n",
    "\n",
    "few_shot_prompt = FewShotPromptTemplate(\n",
    "    example_selector=example_selector,\n",
    "    example_prompt=example_prompt,\n",
    "    prefix=(\n",
    "        \"Here are some examples of questions \"\n",
    "        \"and their corresponding SQL queries.\"\n",
    "    ),\n",
    "    suffix=(\n",
    "        \"Question: {question}\\n\"\n",
    "        \"SQL query: \"\n",
    "    ),\n",
    "    input_variables=[\"question\"],\n",
    ")"
   ]
  },
  {
   "cell_type": "markdown",
   "id": "567fc4bd-50b4-4200-b8a6-d5e155e0f595",
   "metadata": {},
   "source": [
    "Let's test out the `FewShotPromptTemplate` by invoking it with a sample  question:"
   ]
  },
  {
   "cell_type": "code",
   "execution_count": 29,
   "id": "99e24964-9795-4ff4-9594-038f1f93df20",
   "metadata": {},
   "outputs": [
    {
     "name": "stdout",
     "output_type": "stream",
     "text": [
      "Here are some examples of questions and their corresponding SQL queries.\n",
      "\n",
      "Question: What is the total price for the album 'Big Ones'?\n",
      "SQL query: SELECT Album.Title AS album_title, SUM(Track.UnitPrice) AS album_price FROM Track INNER JOIN Album ON Album.AlbumId = Track.AlbumId WHERE Album.Title = 'Big Ones' GROUP BY Track.AlbumId;\n",
      "\n",
      "Question: How many tracks are there in the album 'Big Ones'?\n",
      "SQL query: SELECT Album.Title AS album_title, COUNT(Track.TrackId) AS track_count FROM Track INNER JOIN Album ON Album.AlbumId = Track.AlbumId WHERE Album.Title = 'Big Ones';\n",
      "\n",
      "Question: Which tracks made the most in total sales?\n",
      "SQL query: SELECT Track.Name AS track_name, SUM( InvoiceLine.Quantity * InvoiceLine.UnitPrice ) AS total_sales FROM InvoiceLine INNER JOIN Track ON InvoiceLine.TrackId = Track.TrackId GROUP BY InvoiceLine.TrackId ORDER BY total_sales DESC LIMIT 5;\n",
      "\n",
      "Question: Which tracks sold the most number of units?\n",
      "SQL query: SELECT Track.Name, SUM(InvoiceLine.Quantity) AS total_quantity FROM InvoiceLine INNER JOIN Track ON Track.TrackId = InvoiceLine.TrackId GROUP BY InvoiceLine.TrackId ORDER BY total_quantity DESC LIMIT 5;\n",
      "\n",
      "Question: What is the total price for the album 'Big Ones'?\n",
      "SQL query: \n"
     ]
    }
   ],
   "source": [
    "print(\n",
    "    few_shot_prompt.format(\n",
    "        question=\"What is the total price for the album 'Big Ones'?\"\n",
    "    )\n",
    ")"
   ]
  },
  {
   "cell_type": "markdown",
   "id": "2b2d5e24-5e95-46f2-9760-15b086cd13ae",
   "metadata": {},
   "source": [
    "#### Pass few-shot prompt to agent\n",
    "\n",
    "Format the `FewShotPromptTemplate` object with the user's question to fetch the most relevant examples to the user's question. Pass this in to the same agent as before:"
   ]
  },
  {
   "cell_type": "code",
   "execution_count": 30,
   "id": "5c85bcf4-e56b-4830-8739-6e82d4601d51",
   "metadata": {},
   "outputs": [
    {
     "name": "stdout",
     "output_type": "stream",
     "text": [
      "================================\u001b[1m Human Message \u001b[0m=================================\n",
      "\n",
      "Here are some examples of questions and their corresponding SQL queries.\n",
      "\n",
      "Question: What is the total price for the album 'Big Ones'?\n",
      "SQL query: SELECT Album.Title AS album_title, SUM(Track.UnitPrice) AS album_price FROM Track INNER JOIN Album ON Album.AlbumId = Track.AlbumId WHERE Album.Title = 'Big Ones' GROUP BY Track.AlbumId;\n",
      "\n",
      "Question: How many tracks are there in the album 'Big Ones'?\n",
      "SQL query: SELECT Album.Title AS album_title, COUNT(Track.TrackId) AS track_count FROM Track INNER JOIN Album ON Album.AlbumId = Track.AlbumId WHERE Album.Title = 'Big Ones';\n",
      "\n",
      "Question: Which tracks made the most in total sales?\n",
      "SQL query: SELECT Track.Name AS track_name, SUM( InvoiceLine.Quantity * InvoiceLine.UnitPrice ) AS total_sales FROM InvoiceLine INNER JOIN Track ON InvoiceLine.TrackId = Track.TrackId GROUP BY InvoiceLine.TrackId ORDER BY total_sales DESC LIMIT 5;\n",
      "\n",
      "Question: Which tracks sold the most number of units?\n",
      "SQL query: SELECT Track.Name, SUM(InvoiceLine.Quantity) AS total_quantity FROM InvoiceLine INNER JOIN Track ON Track.TrackId = InvoiceLine.TrackId GROUP BY InvoiceLine.TrackId ORDER BY total_quantity DESC LIMIT 5;\n",
      "\n",
      "Question: What is the total price for the album 'Big Ones'?\n",
      "SQL query: \n",
      "==================================\u001b[1m Ai Message \u001b[0m==================================\n",
      "Tool Calls:\n",
      "  sql_db_schema (251ed0d8-2d01-484f-9438-100f6437eb3c)\n",
      " Call ID: 251ed0d8-2d01-484f-9438-100f6437eb3c\n",
      "  Args:\n",
      "    table_names: Album, Track\n",
      "=================================\u001b[1m Tool Message \u001b[0m=================================\n",
      "Name: sql_db_schema\n",
      "\n",
      "\n",
      "CREATE TABLE \"Album\" (\n",
      "\t\"AlbumId\" INTEGER NOT NULL, \n",
      "\t\"Title\" NVARCHAR(160) NOT NULL, \n",
      "\t\"ArtistId\" INTEGER NOT NULL, \n",
      "\tPRIMARY KEY (\"AlbumId\"), \n",
      "\tFOREIGN KEY(\"ArtistId\") REFERENCES \"Artist\" (\"ArtistId\")\n",
      ")\n",
      "\n",
      "/*\n",
      "3 rows from Album table:\n",
      "AlbumId\tTitle\tArtistId\n",
      "1\tFor Those About To Rock We Salute You\t1\n",
      "2\tBalls to the Wall\t2\n",
      "3\tRestless and Wild\t2\n",
      "*/\n",
      "\n",
      "\n",
      "CREATE TABLE \"Track\" (\n",
      "\t\"TrackId\" INTEGER NOT NULL, \n",
      "\t\"Name\" NVARCHAR(200) NOT NULL, \n",
      "\t\"AlbumId\" INTEGER, \n",
      "\t\"MediaTypeId\" INTEGER NOT NULL, \n",
      "\t\"GenreId\" INTEGER, \n",
      "\t\"Composer\" NVARCHAR(220), \n",
      "\t\"Milliseconds\" INTEGER NOT NULL, \n",
      "\t\"Bytes\" INTEGER, \n",
      "\t\"UnitPrice\" NUMERIC(10, 2) NOT NULL, \n",
      "\tPRIMARY KEY (\"TrackId\"), \n",
      "\tFOREIGN KEY(\"MediaTypeId\") REFERENCES \"MediaType\" (\"MediaTypeId\"), \n",
      "\tFOREIGN KEY(\"GenreId\") REFERENCES \"Genre\" (\"GenreId\"), \n",
      "\tFOREIGN KEY(\"AlbumId\") REFERENCES \"Album\" (\"AlbumId\")\n",
      ")\n",
      "\n",
      "/*\n",
      "3 rows from Track table:\n",
      "TrackId\tName\tAlbumId\tMediaTypeId\tGenreId\tComposer\tMilliseconds\tBytes\tUnitPrice\n",
      "1\tFor Those About To Rock (We Salute You)\t1\t1\t1\tAngus Young, Malcolm Young, Brian Johnson\t343719\t11170334\t0.99\n",
      "2\tBalls to the Wall\t2\t2\t1\tU. Dirkschneider, W. Hoffmann, H. Frank, P. Baltes, S. Kaufmann, G. Hoffmann\t342562\t5510424\t0.99\n",
      "3\tFast As a Shark\t3\t2\t1\tF. Baltes, S. Kaufman, U. Dirkscneider & W. Hoffman\t230619\t3990994\t0.99\n",
      "*/\n",
      "==================================\u001b[1m Ai Message \u001b[0m==================================\n",
      "Tool Calls:\n",
      "  sql_db_query_checker (810facb1-8189-4603-8812-ee4a9ee46366)\n",
      " Call ID: 810facb1-8189-4603-8812-ee4a9ee46366\n",
      "  Args:\n",
      "    query: SELECT Album.Title AS album_title, SUM(Track.UnitPrice) AS album_price FROM Track INNER JOIN Album ON Album.AlbumId = Track.AlbumId WHERE Album.Title = \"Big Ones\" GROUP BY Track.AlbumId\n",
      "=================================\u001b[1m Tool Message \u001b[0m=================================\n",
      "Name: sql_db_query_checker\n",
      "\n",
      "```sql\n",
      "SELECT Album.Title AS album_title, SUM(Track.UnitPrice) AS album_price FROM Track INNER JOIN Album ON Album.AlbumId = Track.AlbumId WHERE Album.Title = 'Big Ones' GROUP BY Album.AlbumId\n",
      "```\n",
      "==================================\u001b[1m Ai Message \u001b[0m==================================\n",
      "Tool Calls:\n",
      "  sql_db_query (ddf4e6d0-9d32-4648-aa53-d675ac30cd73)\n",
      " Call ID: ddf4e6d0-9d32-4648-aa53-d675ac30cd73\n",
      "  Args:\n",
      "    query: SELECT Album.Title AS album_title, SUM(Track.UnitPrice) AS album_price FROM Track INNER JOIN Album ON Album.AlbumId = Track.AlbumId WHERE Album.Title = 'Big Ones' GROUP BY Album.AlbumId\n",
      "=================================\u001b[1m Tool Message \u001b[0m=================================\n",
      "Name: sql_db_query\n",
      "\n",
      "[('Big Ones', 14.85)]\n",
      "==================================\u001b[1m Ai Message \u001b[0m==================================\n",
      "\n",
      "The total price for the album 'Big Ones' is 14.85.\n"
     ]
    }
   ],
   "source": [
    "stream_graph_values(\n",
    "    graph=agent_graph,\n",
    "    user_input=few_shot_prompt.format(\n",
    "        question=\"What is the total price for the album 'Big Ones'?\"\n",
    "    )    \n",
    ")"
   ]
  },
  {
   "cell_type": "markdown",
   "id": "fdb17ba6-289d-4bda-9038-64bb29d1f8e2",
   "metadata": {},
   "source": [
    "As we can see, given relevant examples on how to generate the SQL query, the agent successfully answers the question. Without these examples, the agent got the answer wrong previously.\n",
    "\n",
    "Let's try it out on one more complex question that the agent failed miserably on during testing. This question requires pulling in information from multiple tables and also use of SQLite's date function to extract the year."
   ]
  },
  {
   "cell_type": "code",
   "execution_count": 33,
   "id": "fff42392-fc6b-4d1b-975d-3aa28de2c930",
   "metadata": {},
   "outputs": [
    {
     "name": "stdout",
     "output_type": "stream",
     "text": [
      "================================\u001b[1m Human Message \u001b[0m=================================\n",
      "\n",
      "Here are some examples of questions and their corresponding SQL queries.\n",
      "\n",
      "Question: Which employee made the most in sales in the year 2021?\n",
      "SQL query: SELECT CONCAT( Employee.FirstName, ' ', Employee.LastName ) AS full_name, Employee.Title AS job_title, strftime('%Y', Invoice.InvoiceDate) AS invoice_year, SUM(Invoice.Total) AS total_sales_made FROM Employee INNER JOIN Customer ON Customer.SupportRepId = Employee.EmployeeId INNER JOIN Invoice ON Invoice.CustomerId = Customer.CustomerId WHERE invoice_year = '2021' GROUP BY Employee.EmployeeId ORDER BY total_sales_made DESC LIMIT 5;\n",
      "\n",
      "Question: Which employees made the most in sales?\n",
      "SQL query: SELECT CONCAT( Employee.FirstName, ' ', Employee.LastName ) AS full_name, Employee.Title AS job_title, SUM(Invoice.Total) AS total_sales_made FROM Employee INNER JOIN Customer ON Customer.SupportRepId = Employee.EmployeeId INNER JOIN Invoice ON Invoice.CustomerId = Customer.CustomerId GROUP BY Employee.EmployeeId ORDER BY total_sales_made DESC LIMIT 5;\n",
      "\n",
      "Question: Who are the top 5 customers by total purchase?\n",
      "SQL query: SELECT CONCAT( Customer.FirstName, ' ', Customer.LastName ) AS full_name, Customer.Country, SUM(Invoice.Total) AS total_purchase FROM Invoice INNER JOIN Customer ON Customer.CustomerId = Invoice.CustomerId GROUP BY Invoice.CustomerId ORDER BY total_purchase DESC LIMIT 5;\n",
      "\n",
      "Question: Which employees work in the city Calgary?\n",
      "SQL query: SELECT Employee.FirstName || ' ' || Employee.LastName AS full_name, Employee.City, Employee.Title FROM Employee WHERE Employee.City = 'Calgary';\n",
      "\n",
      "Question: Which employee made the most in sales in the year 2021?\n",
      "SQL query: \n",
      "==================================\u001b[1m Ai Message \u001b[0m==================================\n",
      "Tool Calls:\n",
      "  sql_db_schema (d33b5674-6f58-4ebf-a19d-194c89b1dcc5)\n",
      " Call ID: d33b5674-6f58-4ebf-a19d-194c89b1dcc5\n",
      "  Args:\n",
      "    table_names: Employee, Customer, Invoice\n",
      "=================================\u001b[1m Tool Message \u001b[0m=================================\n",
      "Name: sql_db_schema\n",
      "\n",
      "\n",
      "CREATE TABLE \"Customer\" (\n",
      "\t\"CustomerId\" INTEGER NOT NULL, \n",
      "\t\"FirstName\" NVARCHAR(40) NOT NULL, \n",
      "\t\"LastName\" NVARCHAR(20) NOT NULL, \n",
      "\t\"Company\" NVARCHAR(80), \n",
      "\t\"Address\" NVARCHAR(70), \n",
      "\t\"City\" NVARCHAR(40), \n",
      "\t\"State\" NVARCHAR(40), \n",
      "\t\"Country\" NVARCHAR(40), \n",
      "\t\"PostalCode\" NVARCHAR(10), \n",
      "\t\"Phone\" NVARCHAR(24), \n",
      "\t\"Fax\" NVARCHAR(24), \n",
      "\t\"Email\" NVARCHAR(60) NOT NULL, \n",
      "\t\"SupportRepId\" INTEGER, \n",
      "\tPRIMARY KEY (\"CustomerId\"), \n",
      "\tFOREIGN KEY(\"SupportRepId\") REFERENCES \"Employee\" (\"EmployeeId\")\n",
      ")\n",
      "\n",
      "/*\n",
      "3 rows from Customer table:\n",
      "CustomerId\tFirstName\tLastName\tCompany\tAddress\tCity\tState\tCountry\tPostalCode\tPhone\tFax\tEmail\tSupportRepId\n",
      "1\tLuís\tGonçalves\tEmbraer - Empresa Brasileira de Aeronáutica S.A.\tAv. Brigadeiro Faria Lima, 2170\tSão José dos Campos\tSP\tBrazil\t12227-000\t+55 (12) 3923-5555\t+55 (12) 3923-5566\tluisg@embraer.com.br\t3\n",
      "2\tLeonie\tKöhler\tNone\tTheodor-Heuss-Straße 34\tStuttgart\tNone\tGermany\t70174\t+49 0711 2842222\tNone\tleonekohler@surfeu.de\t5\n",
      "3\tFrançois\tTremblay\tNone\t1498 rue Bélanger\tMontréal\tQC\tCanada\tH2G 1A7\t+1 (514) 721-4711\tNone\tftremblay@gmail.com\t3\n",
      "*/\n",
      "\n",
      "\n",
      "CREATE TABLE \"Employee\" (\n",
      "\t\"EmployeeId\" INTEGER NOT NULL, \n",
      "\t\"LastName\" NVARCHAR(20) NOT NULL, \n",
      "\t\"FirstName\" NVARCHAR(20) NOT NULL, \n",
      "\t\"Title\" NVARCHAR(30), \n",
      "\t\"ReportsTo\" INTEGER, \n",
      "\t\"BirthDate\" DATETIME, \n",
      "\t\"HireDate\" DATETIME, \n",
      "\t\"Address\" NVARCHAR(70), \n",
      "\t\"City\" NVARCHAR(40), \n",
      "\t\"State\" NVARCHAR(40), \n",
      "\t\"Country\" NVARCHAR(40), \n",
      "\t\"PostalCode\" NVARCHAR(10), \n",
      "\t\"Phone\" NVARCHAR(24), \n",
      "\t\"Fax\" NVARCHAR(24), \n",
      "\t\"Email\" NVARCHAR(60), \n",
      "\tPRIMARY KEY (\"EmployeeId\"), \n",
      "\tFOREIGN KEY(\"ReportsTo\") REFERENCES \"Employee\" (\"EmployeeId\")\n",
      ")\n",
      "\n",
      "/*\n",
      "3 rows from Employee table:\n",
      "EmployeeId\tLastName\tFirstName\tTitle\tReportsTo\tBirthDate\tHireDate\tAddress\tCity\tState\tCountry\tPostalCode\tPhone\tFax\tEmail\n",
      "1\tAdams\tAndrew\tGeneral Manager\tNone\t1962-02-18 00:00:00\t2002-08-14 00:00:00\t11120 Jasper Ave NW\tEdmonton\tAB\tCanada\tT5K 2N1\t+1 (780) 428-9482\t+1 (780) 428-3457\tandrew@chinookcorp.com\n",
      "2\tEdwards\tNancy\tSales Manager\t1\t1958-12-08 00:00:00\t2002-05-01 00:00:00\t825 8 Ave SW\tCalgary\tAB\tCanada\tT2P 2T3\t+1 (403) 262-3443\t+1 (403) 262-3322\tnancy@chinookcorp.com\n",
      "3\tPeacock\tJane\tSales Support Agent\t2\t1973-08-29 00:00:00\t2002-04-01 00:00:00\t1111 6 Ave SW\tCalgary\tAB\tCanada\tT2P 5M5\t+1 (403) 262-3443\t+1 (403) 262-6712\tjane@chinookcorp.com\n",
      "*/\n",
      "\n",
      "\n",
      "CREATE TABLE \"Invoice\" (\n",
      "\t\"InvoiceId\" INTEGER NOT NULL, \n",
      "\t\"CustomerId\" INTEGER NOT NULL, \n",
      "\t\"InvoiceDate\" DATETIME NOT NULL, \n",
      "\t\"BillingAddress\" NVARCHAR(70), \n",
      "\t\"BillingCity\" NVARCHAR(40), \n",
      "\t\"BillingState\" NVARCHAR(40), \n",
      "\t\"BillingCountry\" NVARCHAR(40), \n",
      "\t\"BillingPostalCode\" NVARCHAR(10), \n",
      "\t\"Total\" NUMERIC(10, 2) NOT NULL, \n",
      "\tPRIMARY KEY (\"InvoiceId\"), \n",
      "\tFOREIGN KEY(\"CustomerId\") REFERENCES \"Customer\" (\"CustomerId\")\n",
      ")\n",
      "\n",
      "/*\n",
      "3 rows from Invoice table:\n",
      "InvoiceId\tCustomerId\tInvoiceDate\tBillingAddress\tBillingCity\tBillingState\tBillingCountry\tBillingPostalCode\tTotal\n",
      "1\t2\t2021-01-01 00:00:00\tTheodor-Heuss-Straße 34\tStuttgart\tNone\tGermany\t70174\t1.98\n",
      "2\t4\t2021-01-02 00:00:00\tUllevålsveien 14\tOslo\tNone\tNorway\t0171\t3.96\n",
      "3\t8\t2021-01-03 00:00:00\tGrétrystraat 63\tBrussels\tNone\tBelgium\t1000\t5.94\n",
      "*/\n",
      "==================================\u001b[1m Ai Message \u001b[0m==================================\n",
      "Tool Calls:\n",
      "  sql_db_query_checker (eec10a88-5fff-4cfe-88c2-a6f961e1b12a)\n",
      " Call ID: eec10a88-5fff-4cfe-88c2-a6f961e1b12a\n",
      "  Args:\n",
      "    query: SELECT CONCAT( Employee.FirstName, \\' \\', Employee.LastName ) AS full_name, Employee.Title AS job_title, strftime(\\'%Y\\', Invoice.InvoiceDate) AS invoice_year, SUM(Invoice.Total) AS total_sales_made FROM Employee INNER JOIN Customer ON Customer.SupportRepId = Employee.EmployeeId INNER JOIN Invoice ON Invoice.CustomerId = Customer.CustomerId WHERE invoice_year = \\'2021\\' GROUP BY Employee.EmployeeId ORDER BY total_sales_made DESC LIMIT 5\n",
      "=================================\u001b[1m Tool Message \u001b[0m=================================\n",
      "Name: sql_db_query_checker\n",
      "\n",
      "```sqlite\n",
      "SELECT CONCAT(Employee.FirstName, ' ', Employee.LastName) AS full_name, Employee.Title AS job_title, strftime('%Y', Invoice.InvoiceDate) AS invoice_year, SUM(Invoice.Total) AS total_sales_made FROM Employee INNER JOIN Customer ON Customer.SupportRepId = Employee.EmployeeId INNER JOIN Invoice ON Invoice.CustomerId = Customer.CustomerId WHERE strftime('%Y', Invoice.InvoiceDate) = '2021' GROUP BY Employee.EmployeeId ORDER BY total_sales_made DESC LIMIT 5\n",
      "```\n",
      "==================================\u001b[1m Ai Message \u001b[0m==================================\n",
      "Tool Calls:\n",
      "  sql_db_query (eb2951eb-4522-4920-9a44-76b19ef399c6)\n",
      " Call ID: eb2951eb-4522-4920-9a44-76b19ef399c6\n",
      "  Args:\n",
      "    query: SELECT CONCAT(Employee.FirstName, ' ', Employee.LastName) AS full_name, Employee.Title AS job_title, strftime('%Y', Invoice.InvoiceDate) AS invoice_year, SUM(Invoice.Total) AS total_sales_made FROM Employee INNER JOIN Customer ON Customer.SupportRepId = Employee.EmployeeId INNER JOIN Invoice ON Invoice.CustomerId = Customer.CustomerId WHERE strftime('%Y', Invoice.InvoiceDate) = '2021' GROUP BY Employee.EmployeeId ORDER BY total_sales_made DESC LIMIT 5\n",
      "=================================\u001b[1m Tool Message \u001b[0m=================================\n",
      "Name: sql_db_query\n",
      "\n",
      "[('Steve Johnson', 'Sales Support Agent', '2021', 164.34), ('Margaret Park', 'Sales Support Agent', '2021', 161.37), ('Jane Peacock', 'Sales Support Agent', '2021', 123.75)]\n",
      "==================================\u001b[1m Ai Message \u001b[0m==================================\n",
      "\n",
      "The employee who made the most in sales in 2021 is Steve Johnson, a Sales Support Agent, with total sales of 164.34.  Margaret Park, also a Sales Support Agent, made 161.37 in sales, and Jane Peacock, another Sales Support Agent, made 123.75 in sales.\n"
     ]
    }
   ],
   "source": [
    "stream_graph_values(\n",
    "    graph=agent_graph,\n",
    "    user_input=few_shot_prompt.format(\n",
    "        question=\"Which employee made the most in sales in the year 2021?\"\n",
    "    )    \n",
    ")"
   ]
  },
  {
   "cell_type": "markdown",
   "id": "64223f1a-3a97-4fb3-bddd-9c6950085280",
   "metadata": {},
   "source": [
    "Again with the relevant examples fed to the agent, it can successfully answer the question.\n",
    "\n",
    "\n",
    "## Conclusion\n",
    "\n",
    "In this notebook, we have seen how to use LLMs to do question answering over a SQL database. We have demonstrated two approaches to this problem using either a chain or an agent. We have also seen how few-shot prompting can help improve LLM performance, especially when dealing with more complex queries. \n",
    "\n",
    "There are lots more you can do to improve this QA system. For further reading:\n",
    "\n",
    "* [How to deal with large databases when doing SQL question-answering](https://python.langchain.com/docs/how_to/sql_large_db/)\n",
    "* [LangGraph - Multi-step Agent for interacting with a SQL database](https://langchain-ai.github.io/langgraph/tutorials/sql-agent/)"
   ]
  },
  {
   "cell_type": "code",
   "execution_count": null,
   "id": "2d3b9963-6ff2-444e-a14e-26cfe065959e",
   "metadata": {},
   "outputs": [],
   "source": []
  }
 ],
 "metadata": {
  "kernelspec": {
   "display_name": "Python 3 (ipykernel)",
   "language": "python",
   "name": "python3"
  },
  "language_info": {
   "codemirror_mode": {
    "name": "ipython",
    "version": 3
   },
   "file_extension": ".py",
   "mimetype": "text/x-python",
   "name": "python",
   "nbconvert_exporter": "python",
   "pygments_lexer": "ipython3",
   "version": "3.11.10"
  }
 },
 "nbformat": 4,
 "nbformat_minor": 5
}
