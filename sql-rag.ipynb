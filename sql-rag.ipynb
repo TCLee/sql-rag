{
 "cells": [
  {
   "cell_type": "markdown",
   "id": "dcefa426-d5ca-4d34-af10-346064edcc90",
   "metadata": {},
   "source": [
    "# Build a Question/Answering system over SQL data\n",
    "\n",
    "Enabling a LLM system to query structured data (e.g., database) is very different from unstructured text data. For **unstructured** text data, we generate text that can be searched against a vector database. For **structured** data, we need the LLM to write and execute queries in SQL. \n",
    "\n",
    "In this guide we'll go over the basic ways to create a Q&A system over tabular data in databases. We will cover implementations using both **chains** and an **agent**. These systems will allow us to ask a question about the data in a database and get back a natural language answer. The main difference between chains and an agent is that our agent can query the database in a loop as many times as it needs to answer the question.\n",
    "\n",
    "\n",
    "> ## ⚠️ Security note ⚠️\n",
    ">\n",
    "> Building Q&A systems of SQL databases requires executing model-generated SQL queries. There are inherent risks in doing this. Make sure that your database connection permissions are always scoped as narrowly as possible for your agent's needs. This will reduce though **not** eliminate the risks of building a model-driven system. For more on general security best practices, see [LangChain Security Docs](https://python.langchain.com/v0.2/docs/security).\n",
    "\n",
    "The code in this notebook is adapted from the LangChain tutorial: [Build a Question/Answering system over SQL data](https://python.langchain.com/v0.2/docs/tutorials/sql_qa).\n",
    "\n",
    "\n",
    "## Architecture\n",
    "\n",
    "At a high-level, the steps of these systems are:\n",
    "\n",
    "1. **Convert question to SQL query**: Model converts user's query to a SQL query.\n",
    "2. **Execute SQL query**: Execute the SQL query.\n",
    "3. **Answer the question**: Model responds to user input using the database query results.\n",
    "\n",
    "\n",
    "![Convert user's question to SQL](img/sql_usecase.png \"Convert user's question to SQL\")\n",
    "**Figure 1**: Image from [LangChain tutorial](https://python.langchain.com/v0.2/docs/tutorials/sql_qa/#architecture)\n",
    "\n",
    "\n",
    "## Setup\n",
    "\n",
    "Before we begin, please make sure you have setup the `.env` file in the project \n",
    "directory as described in [`README.md`](README.md).\n",
    "\n",
    "Next, we will load in the necessary environment variables (e.g., API keys) for this notebook:"
   ]
  },
  {
   "cell_type": "code",
   "execution_count": 4,
   "id": "4f1f5de3-14eb-4864-ada1-681ff293c4de",
   "metadata": {},
   "outputs": [],
   "source": [
    "import os\n",
    "from dotenv import load_dotenv\n",
    "\n",
    "_ = load_dotenv()\n",
    "\n",
    "assert os.environ.get(\"GOOGLE_API_KEY\")"
   ]
  },
  {
   "cell_type": "markdown",
   "id": "cdcd0173-2c6f-4994-a29a-dc655b08b072",
   "metadata": {},
   "source": [
    "## Database\n",
    "\n",
    "In this notebook we will use a SQLite connection with the [Chinook](https://github.com/lerocha/chinook-database) sample database. The database has already been created for you in the `db` directory.\n",
    "\n",
    "![Chinook database ER diagram](img/chinook-database-er-diagram.png \"Chinook database ER diagram\")\n",
    "**Figure 2**: Image from [`chinook-database` GitHub](https://github.com/lerocha/chinook-database)\n",
    "\n",
    "We can interface with the database using the SQLAlchemy-driven [`SQLDatabase`](https://python.langchain.com/v0.2/api_reference/community/utilities/langchain_community.utilities.sql_database.SQLDatabase.html) class:"
   ]
  },
  {
   "cell_type": "code",
   "execution_count": 2,
   "id": "20b3ca34-ad9e-4834-9bde-f9f810575b85",
   "metadata": {},
   "outputs": [
    {
     "name": "stdout",
     "output_type": "stream",
     "text": [
      "SQL Dialect: sqlite\n",
      "Tables: ['Album', 'Artist', 'Customer', 'Employee', 'Genre', 'Invoice', 'InvoiceLine', 'MediaType', 'Playlist', 'PlaylistTrack', 'Track']\n"
     ]
    }
   ],
   "source": [
    "from langchain_community.utilities import SQLDatabase\n",
    "\n",
    "# Open database in read-only (`ro`) mode.\n",
    "database = SQLDatabase.from_uri(\n",
    "    \"sqlite:///db/Chinook.db?mode=ro\"\n",
    ")\n",
    "\n",
    "print(f\"SQL Dialect: {database.dialect}\")\n",
    "print(\n",
    "    f\"Tables: {database.get_usable_table_names()}\"\n",
    ")"
   ]
  },
  {
   "cell_type": "code",
   "execution_count": 3,
   "id": "b93c49a9-a2e0-44ee-8b76-4569e22167d5",
   "metadata": {},
   "outputs": [
    {
     "data": {
      "text/plain": [
       "\"[(1, 'AC/DC'), (2, 'Accept'), (3, 'Aerosmith'), (4, 'Alanis Morissette'), (5, 'Alice In Chains'), (6, 'Antônio Carlos Jobim'), (7, 'Apocalyptica'), (8, 'Audioslave'), (9, 'BackBeat'), (10, 'Billy Cobham')]\""
      ]
     },
     "execution_count": 3,
     "metadata": {},
     "output_type": "execute_result"
    }
   ],
   "source": [
    "database.run(\"SELECT * FROM Artist LIMIT 10;\")"
   ]
  },
  {
   "cell_type": "markdown",
   "id": "ca7a7d0c-7aa5-427a-b649-57a9db50b824",
   "metadata": {},
   "source": [
    "Great! We've got a SQL database that we can query. Now let's try hooking it up to an LLM.\n",
    "\n",
    "\n",
    "## Chain\n",
    "\n",
    "Chains (i.e., compositions of LangChain [Runnables](https://python.langchain.com/v0.2/docs/concepts/#langchain-expression-language-lcel) support applications whose steps are predictable. We can create a simple chain that takes a question and does the following:\n",
    "1. Convert the question into a SQL query.\n",
    "2. Execute the SQL query.\n",
    "3. Use the results to answer the original question.\n",
    "\n",
    "There are scenarios not supported by this arrangement. For example, this system will execute a SQL query for any user input — even `\"hello\"`. Importantly, as we'll see below, some questions require more than one query to answer. We will address these scenarios in the [Agent](#Agent) section.\n",
    "\n",
    "### Convert question to SQL query\n",
    "\n",
    "Let's initialize a LLM that we will use in the chain. We will be using Google's [**Gemini 1.5 Flash**](https://ai.google.dev/gemini-api/docs/models/gemini#gemini-1.5-flash), since it offers a generous free tier for us to play around with."
   ]
  },
  {
   "cell_type": "code",
   "execution_count": 5,
   "id": "476f07f4-cc86-4f94-895d-b7fe3ce390c0",
   "metadata": {},
   "outputs": [],
   "source": [
    "from langchain_google_genai import ChatGoogleGenerativeAI\n",
    "\n",
    "llm = ChatGoogleGenerativeAI(\n",
    "    model=\"gemini-1.5-flash\", \n",
    "    temperature=0\n",
    ")"
   ]
  },
  {
   "cell_type": "markdown",
   "id": "9261b5c5-c3a2-46c3-8021-19dc27d5598a",
   "metadata": {},
   "source": [
    "The first step in a SQL chain or agent is to take the user input and convert it to a SQL query. LangChain comes with a built-in chain for this: [`create_sql_query_chain`](https://python.langchain.com/v0.2/api_reference/langchain/chains/langchain.chains.sql_database.query.create_sql_query_chain.html)."
   ]
  },
  {
   "cell_type": "code",
   "execution_count": 23,
   "id": "994fb58a-f303-43c1-b1ef-7ac7bb1d26f2",
   "metadata": {},
   "outputs": [
    {
     "data": {
      "text/plain": [
       "'```sqlite\\nSELECT COUNT(*) FROM Employee\\n```'"
      ]
     },
     "execution_count": 23,
     "metadata": {},
     "output_type": "execute_result"
    }
   ],
   "source": [
    "from langchain.chains import create_sql_query_chain\n",
    "\n",
    "write_query = create_sql_query_chain(\n",
    "    llm=llm, \n",
    "    db=database\n",
    ")\n",
    "\n",
    "response = write_query.invoke(\n",
    "    input={\n",
    "        \"question\": \"How many employees are there?\"\n",
    "    }\n",
    ")\n",
    "\n",
    "response"
   ]
  },
  {
   "cell_type": "markdown",
   "id": "092f2262-37ae-4809-b9de-6a942ae3eb28",
   "metadata": {},
   "source": [
    "If we try executing the generated SQL directly, we will encounter a syntax error:"
   ]
  },
  {
   "cell_type": "code",
   "execution_count": 24,
   "id": "1ff855d4-3983-45e6-8831-d02ca7ef408b",
   "metadata": {},
   "outputs": [
    {
     "name": "stdout",
     "output_type": "stream",
     "text": [
      "(sqlite3.OperationalError) near \"```sqlite\n",
      "SELECT COUNT(*) FROM Employee\n",
      "```\": syntax error\n",
      "[SQL: ```sqlite\n",
      "SELECT COUNT(*) FROM Employee\n",
      "```]\n",
      "(Background on this error at: https://sqlalche.me/e/20/e3q8)\n"
     ]
    }
   ],
   "source": [
    "try:\n",
    "    print(\n",
    "        database.run(response)\n",
    "    )\n",
    "except Exception as error:\n",
    "    print(error)"
   ]
  },
  {
   "cell_type": "markdown",
   "id": "59521478-31f4-40c4-9efd-bc75f863c9ab",
   "metadata": {},
   "source": [
    "This is because the LLM generates the SQL with `sqlite` tags. Instead, we need to extract a valid SQL from the response. To do this, we will make the LLM return structured output.\n",
    "\n",
    "> **See also**: [How to return structured data from a model](https://python.langchain.com/v0.2/docs/how_to/structured_output/)"
   ]
  },
  {
   "cell_type": "code",
   "execution_count": 25,
   "id": "42b56cd4-8f99-4cac-b9ad-d360bde032e4",
   "metadata": {},
   "outputs": [],
   "source": [
    "from langchain_core.pydantic_v1 import (\n",
    "    BaseModel, \n",
    "    Field\n",
    ")\n",
    "\n",
    "class OutputFormat(BaseModel):\n",
    "    \"\"\"\n",
    "    The expected output format.    \n",
    "    \"\"\"\n",
    "    question: str = Field(\n",
    "        description=(\n",
    "            \"The user's question.\"\n",
    "        )\n",
    "    )\n",
    "    query: str = Field(\n",
    "        description=(\n",
    "            \"A valid SQL query that can be \"\n",
    "            \"executed against a SQLite database \"\n",
    "            \"to answer the user's question.\"            \n",
    "        )\n",
    "    )"
   ]
  },
  {
   "cell_type": "code",
   "execution_count": 32,
   "id": "fe6b5fa1-413c-4e2b-a855-1b833d3a9665",
   "metadata": {},
   "outputs": [
    {
     "data": {
      "text/plain": [
       "'SELECT COUNT(*) FROM Employee'"
      ]
     },
     "execution_count": 32,
     "metadata": {},
     "output_type": "execute_result"
    }
   ],
   "source": [
    "# Chain to extract a valid SQL from the \n",
    "# generated response\n",
    "parse_sql = (\n",
    "    llm.with_structured_output(\n",
    "        schema=OutputFormat\n",
    "    )\n",
    "    | (lambda output: output.query)\n",
    ")\n",
    "\n",
    "chain = (\n",
    "    write_query \n",
    "    | parse_sql\n",
    ")\n",
    "\n",
    "response = chain.invoke(\n",
    "    input={\n",
    "        \"question\": \"How many employees are there?\"\n",
    "    }\n",
    ")\n",
    "\n",
    "response"
   ]
  },
  {
   "cell_type": "markdown",
   "id": "069c86f9-13bf-4982-afbd-78b5f4e9d685",
   "metadata": {},
   "source": [
    "Now, we can successfully execute the SQL query:"
   ]
  },
  {
   "cell_type": "code",
   "execution_count": 31,
   "id": "d4683063-818a-43cb-ba7a-6fb17695603d",
   "metadata": {},
   "outputs": [
    {
     "name": "stdout",
     "output_type": "stream",
     "text": [
      "[(8,)]\n"
     ]
    }
   ],
   "source": [
    "try:\n",
    "    print(\n",
    "        database.run(response)\n",
    "    )\n",
    "except Exception as error:\n",
    "    print(error)"
   ]
  },
  {
   "cell_type": "markdown",
   "id": "8851b185-da23-444b-a555-86266eb0297a",
   "metadata": {},
   "source": [
    "We can look at the [LangSmith trace](https://smith.langchain.com/public/c8fa52ea-be46-4829-bde2-52894970b830/r) to get a better understanding of what this chain is doing. We can also inspect the chain directly for its prompts. Looking at the prompt (below), we can see that it is:\n",
    "\n",
    "* Dialect-specific. In this case it references SQLite explicitly.\n",
    "* Has definitions for all the available tables.\n",
    "* Has three examples rows for each table.\n",
    "\n",
    "This technique is inspired by papers like [this](https://arxiv.org/pdf/2204.00498.pdf), which suggest showing examples rows and being explicit about tables improves performance. We can also inspect the full prompt like so:"
   ]
  },
  {
   "cell_type": "code",
   "execution_count": 33,
   "id": "4fb823f6-753e-4079-8e64-006484ea5b63",
   "metadata": {},
   "outputs": [
    {
     "name": "stdout",
     "output_type": "stream",
     "text": [
      "You are a SQLite expert. Given an input question, first create a syntactically correct SQLite query to run, then look at the results of the query and return the answer to the input question.\n",
      "Unless the user specifies in the question a specific number of examples to obtain, query for at most 5 results using the LIMIT clause as per SQLite. You can order the results to return the most informative data in the database.\n",
      "Never query for all columns from a table. You must query only the columns that are needed to answer the question. Wrap each column name in double quotes (\") to denote them as delimited identifiers.\n",
      "Pay attention to use only the column names you can see in the tables below. Be careful to not query for columns that do not exist. Also, pay attention to which column is in which table.\n",
      "Pay attention to use date('now') function to get the current date, if the question involves \"today\".\n",
      "\n",
      "Use the following format:\n",
      "\n",
      "Question: Question here\n",
      "SQLQuery: SQL Query to run\n",
      "SQLResult: Result of the SQLQuery\n",
      "Answer: Final answer here\n",
      "\n",
      "Only use the following tables:\n",
      "\u001b[33;1m\u001b[1;3m{table_info}\u001b[0m\n",
      "\n",
      "Question: \u001b[33;1m\u001b[1;3m{input}\u001b[0m\n"
     ]
    }
   ],
   "source": [
    "chain.get_prompts()[0].pretty_print()"
   ]
  },
  {
   "cell_type": "markdown",
   "id": "1401b687-9e6c-451b-b152-5f4f38548548",
   "metadata": {},
   "source": [
    "### Query Validation\n",
    "\n",
    "The most error-prone part of any SQL chain or agent is writing valid and safe SQL queries. We can make use of LangChain's built-in [`QuerySQLCheckerTool`](https://python.langchain.com/v0.2/api_reference/community/tools/langchain_community.tools.sql_database.tool.QuerySQLCheckerTool.html) that uses an LLM to check the SQL query for common mistakes.\n",
    "\n",
    "> **See also**: [How to do query validation](https://python.langchain.com/v0.2/docs/how_to/sql_query_checking/)"
   ]
  },
  {
   "cell_type": "code",
   "execution_count": 44,
   "id": "256b2763-ff5c-4084-b137-9115af103115",
   "metadata": {},
   "outputs": [],
   "source": [
    "from langchain_community.tools import QuerySQLCheckerTool\n",
    "\n",
    "check_query = QuerySQLCheckerTool(\n",
    "    db=database, \n",
    "    llm=llm\n",
    ")"
   ]
  },
  {
   "cell_type": "markdown",
   "id": "d7e85a85-44ba-44fb-9e67-af993d377a76",
   "metadata": {},
   "source": [
    "Let's check out the prompt that is used for checking the query:"
   ]
  },
  {
   "cell_type": "code",
   "execution_count": 45,
   "id": "2b153945-e8a7-439e-8e88-010095d00ab4",
   "metadata": {},
   "outputs": [
    {
     "name": "stdout",
     "output_type": "stream",
     "text": [
      "\n",
      "{query}\n",
      "Double check the {dialect} query above for common mistakes, including:\n",
      "- Using NOT IN with NULL values\n",
      "- Using UNION when UNION ALL should have been used\n",
      "- Using BETWEEN for exclusive ranges\n",
      "- Data type mismatch in predicates\n",
      "- Properly quoting identifiers\n",
      "- Using the correct number of arguments for functions\n",
      "- Casting to the correct data type\n",
      "- Using the proper columns for joins\n",
      "\n",
      "If there are any of the above mistakes, rewrite the query. If there are no mistakes, just reproduce the original query.\n",
      "\n",
      "Output the final SQL query only.\n",
      "\n",
      "SQL Query: \n"
     ]
    }
   ],
   "source": [
    "print(check_query.template)"
   ]
  },
  {
   "cell_type": "markdown",
   "id": "1fa6fb64-50bf-41fe-95d3-8b7a1ee4baf3",
   "metadata": {},
   "source": [
    "Try running it on an incorrect SQL query (❌`NOT IN NULL` instead of ✅`IS NOT NULL`):"
   ]
  },
  {
   "cell_type": "code",
   "execution_count": 49,
   "id": "4b5155bd-8058-4cf7-9665-856278cdc7f6",
   "metadata": {},
   "outputs": [
    {
     "data": {
      "text/plain": [
       "'```sqlite\\nSELECT * FROM Employee WHERE LastName IS NOT NULL;\\n```'"
      ]
     },
     "execution_count": 49,
     "metadata": {},
     "output_type": "execute_result"
    }
   ],
   "source": [
    "check_query.invoke(\n",
    "    input={\n",
    "        \"query\": \"SELECT * FROM Employee WHERE LastName NOT IN NULL;\"\n",
    "    }\n",
    ")"
   ]
  },
  {
   "cell_type": "markdown",
   "id": "61a81a06-87e7-427b-ab10-4026ddc8e2a9",
   "metadata": {},
   "source": [
    "We can see that the LLM corrected our query. Let's move on to executing the query."
   ]
  },
  {
   "cell_type": "markdown",
   "id": "b894ab5f-5e60-436b-9217-28826f83e1e2",
   "metadata": {},
   "source": [
    "### Execute SQL query\n",
    "\n",
    "Now that we've generated a SQL query, we'll want to execute it. **This is the most dangerous part of creating a SQL chain.** Consider carefully if it is OK to run automated queries over your data. Minimize the database connection permissions as much as possible. Consider adding a human approval step to your chains before query execution (see below).\n",
    "\n",
    "We can use the [`QuerySQLDatabaseTool`](https://python.langchain.com/v0.2/api_reference/community/tools/langchain_community.tools.sql_database.tool.QuerySQLDataBaseTool.html) to easily add query execution to our chain:"
   ]
  },
  {
   "cell_type": "code",
   "execution_count": 53,
   "id": "af0e6999-6b1f-4c82-a1c1-59aac8b39c63",
   "metadata": {},
   "outputs": [
    {
     "data": {
      "text/plain": [
       "'[(8,)]'"
      ]
     },
     "execution_count": 53,
     "metadata": {},
     "output_type": "execute_result"
    }
   ],
   "source": [
    "from langchain_community.tools.sql_database.tool import (\n",
    "    QuerySQLDataBaseTool\n",
    ")\n",
    "\n",
    "execute_query = QuerySQLDataBaseTool(\n",
    "    db=database\n",
    ")\n",
    "\n",
    "chain = (\n",
    "    write_query \n",
    "    | check_query\n",
    "    | parse_sql\n",
    "    | execute_query\n",
    ")\n",
    "\n",
    "response = chain.invoke(\n",
    "    input={\n",
    "        \"question\": \"How many employees are there?\"\n",
    "    }\n",
    ")\n",
    "\n",
    "response"
   ]
  },
  {
   "cell_type": "markdown",
   "id": "80b363a9-5ebb-49eb-b6db-c94b6f97fe35",
   "metadata": {},
   "source": [
    "### Answer the question\n",
    "\n",
    "Now that we've got a way to automatically generate and execute queries, we just need to combine the original question and SQL query result to generate a final answer. We can do this by passing question and result to the LLM once more:"
   ]
  },
  {
   "cell_type": "code",
   "execution_count": 58,
   "id": "40f1dbde-5374-4d83-934b-0a044554bbf6",
   "metadata": {},
   "outputs": [
    {
     "name": "stdout",
     "output_type": "stream",
     "text": [
      "Given the following user question, corresponding SQL query, and SQL result, answer the user question.\n",
      "\n",
      "Question: {question}\n",
      "SQL Query: {query}\n",
      "SQL Result: {result}\n",
      "Answer: \n"
     ]
    }
   ],
   "source": [
    "from langchain_core.prompts import PromptTemplate\n",
    "\n",
    "answer_prompt = PromptTemplate.from_template(\n",
    "    \"Given the following user question, \"\n",
    "    \"corresponding SQL query, and SQL result, \"\n",
    "    \"answer the user question.\\n\\n\" \n",
    "    \"Question: {question}\\n\"\n",
    "    \"SQL Query: {query}\\n\"\n",
    "    \"SQL Result: {result}\\n\"\n",
    "    \"Answer: \"\n",
    ")\n",
    "\n",
    "print(answer_prompt.template)"
   ]
  },
  {
   "cell_type": "code",
   "execution_count": 59,
   "id": "de0b066b-2a86-4a71-b790-e51dee07509c",
   "metadata": {},
   "outputs": [
    {
     "data": {
      "text/plain": [
       "'There are **8** employees. \\n'"
      ]
     },
     "execution_count": 59,
     "metadata": {},
     "output_type": "execute_result"
    }
   ],
   "source": [
    "from operator import itemgetter\n",
    "\n",
    "from langchain_core.output_parsers import StrOutputParser\n",
    "from langchain_core.runnables import RunnablePassthrough\n",
    "\n",
    "\n",
    "chain = (\n",
    "    RunnablePassthrough.assign(\n",
    "        query=(\n",
    "            write_query \n",
    "            | check_query \n",
    "            | parse_sql\n",
    "        )\n",
    "    ).assign(\n",
    "        result=(\n",
    "            itemgetter(\"query\") \n",
    "            | execute_query\n",
    "        )\n",
    "    )\n",
    "    | answer_prompt\n",
    "    | llm\n",
    "    | StrOutputParser()\n",
    ")\n",
    "\n",
    "response = chain.invoke(\n",
    "    input={\n",
    "        \"question\": \"How many employees are there?\"\n",
    "    }\n",
    ")\n",
    "\n",
    "response"
   ]
  },
  {
   "cell_type": "markdown",
   "id": "8dae8f48-7ed9-43ee-9be1-465465609dc8",
   "metadata": {},
   "source": [
    "Let's review what is happening in the above LangChain Expression Language (LCEL). When this chain is invoked:\n",
    "\n",
    "- After the first `RunnablePassthrough.assign`, we have a runnable with two elements:\n",
    "    ```python\n",
    "    {\n",
    "        \"question\": \"How many employees are there?\",\n",
    "        \"query\": write_query.invoke(question)\n",
    "    }\n",
    "    ```\n",
    "where `write_query` will generate a SQL query to answer the user's `question`.\n",
    "\n",
    "- After the second `RunnablePassthrough.assign`, we have add a third element `\"result\"` that contains `execute_query.invoke(query)`, where `query` was computed in the previous step.\n",
    "    ```python\n",
    "    {\n",
    "        \"question\": \"How many employees are there?\",\n",
    "        \"query\": write_query.invoke(question),\n",
    "        \"result\": execute_query.invoke(query)\n",
    "    }\n",
    "    ```\n",
    "    \n",
    "- These three inputs are formatted into the prompt and passed into the LLM.\n",
    "- The `StrOutputParser()` plucks out the string content of the output message.\n",
    "\n",
    "Note that we are composing LLMs, tools, prompts, and other chains together, but because each implements the `Runnable` interface, their inputs and outputs can be tied together in a reasonable way.\n",
    "\n",
    "> **See also**: [LangChain Expression Language Cheatsheet](https://python.langchain.com/v0.2/docs/how_to/lcel_cheatsheet/)"
   ]
  },
  {
   "cell_type": "markdown",
   "id": "df0cac9d-3958-48fc-8946-d2a5a1496d0a",
   "metadata": {},
   "source": [
    "## Agent"
   ]
  },
  {
   "cell_type": "code",
   "execution_count": null,
   "id": "fce46e3d-6ff1-49c4-8890-183b6b9147ae",
   "metadata": {},
   "outputs": [],
   "source": []
  }
 ],
 "metadata": {
  "kernelspec": {
   "display_name": "Python 3 (ipykernel)",
   "language": "python",
   "name": "python3"
  },
  "language_info": {
   "codemirror_mode": {
    "name": "ipython",
    "version": 3
   },
   "file_extension": ".py",
   "mimetype": "text/x-python",
   "name": "python",
   "nbconvert_exporter": "python",
   "pygments_lexer": "ipython3",
   "version": "3.11.9"
  }
 },
 "nbformat": 4,
 "nbformat_minor": 5
}
